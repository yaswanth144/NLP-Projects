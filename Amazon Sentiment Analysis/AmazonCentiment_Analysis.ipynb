{
  "nbformat": 4,
  "nbformat_minor": 0,
  "metadata": {
    "colab": {
      "name": "AmazonCentiment Analysis.ipynb",
      "provenance": []
    },
    "kernelspec": {
      "name": "python3",
      "display_name": "Python 3"
    },
    "language_info": {
      "name": "python"
    }
  },
  "cells": [
    {
      "cell_type": "markdown",
      "metadata": {
        "id": "Pm4xjYzM8twD"
      },
      "source": [
        "#Amazon product Review Sentiment"
      ]
    },
    {
      "cell_type": "code",
      "metadata": {
        "id": "oxG6MwYu9ugJ"
      },
      "source": [
        "#Importing pandas and numpy libraries\n",
        "import pandas as pd\n",
        "import numpy as np\n",
        "import seaborn as sns"
      ],
      "execution_count": null,
      "outputs": []
    },
    {
      "cell_type": "code",
      "metadata": {
        "colab": {
          "base_uri": "https://localhost:8080/"
        },
        "id": "2hfIpSYm9oFi",
        "outputId": "69a0d29d-b8f6-4952-f5d3-ce20e7aff14d"
      },
      "source": [
        "#Loading the csv files using pandas library\n",
        "data = pd.read_csv('amazon.csv')\n",
        "print(data.head())"
      ],
      "execution_count": null,
      "outputs": [
        {
          "output_type": "stream",
          "text": [
            "                     id  ... reviews.username\n",
            "0  AVqkIhwDv8e3D1O-lebb  ...          Adapter\n",
            "1  AVqkIhwDv8e3D1O-lebb  ...           truman\n",
            "2  AVqkIhwDv8e3D1O-lebb  ...            DaveZ\n",
            "3  AVqkIhwDv8e3D1O-lebb  ...           Shacks\n",
            "4  AVqkIhwDv8e3D1O-lebb  ...        explore42\n",
            "\n",
            "[5 rows x 21 columns]\n"
          ],
          "name": "stdout"
        }
      ]
    },
    {
      "cell_type": "code",
      "metadata": {
        "colab": {
          "base_uri": "https://localhost:8080/"
        },
        "id": "zBA3z7gXqy2b",
        "outputId": "68bd1f60-9f8f-4fec-ae21-fc49b8c88a4b"
      },
      "source": [
        "#Whole information summary on data\n",
        "data.info()"
      ],
      "execution_count": null,
      "outputs": [
        {
          "output_type": "stream",
          "text": [
            "<class 'pandas.core.frame.DataFrame'>\n",
            "RangeIndex: 34660 entries, 0 to 34659\n",
            "Data columns (total 21 columns):\n",
            " #   Column                Non-Null Count  Dtype  \n",
            "---  ------                --------------  -----  \n",
            " 0   id                    34660 non-null  object \n",
            " 1   name                  27900 non-null  object \n",
            " 2   asins                 34658 non-null  object \n",
            " 3   brand                 34660 non-null  object \n",
            " 4   categories            34660 non-null  object \n",
            " 5   keys                  34660 non-null  object \n",
            " 6   manufacturer          34660 non-null  object \n",
            " 7   reviews.date          34621 non-null  object \n",
            " 8   reviews.dateAdded     24039 non-null  object \n",
            " 9   reviews.dateSeen      34660 non-null  object \n",
            " 10  reviews.didPurchase   1 non-null      object \n",
            " 11  reviews.doRecommend   34066 non-null  object \n",
            " 12  reviews.id            1 non-null      float64\n",
            " 13  reviews.numHelpful    34131 non-null  float64\n",
            " 14  reviews.rating        34627 non-null  float64\n",
            " 15  reviews.sourceURLs    34660 non-null  object \n",
            " 16  reviews.text          34659 non-null  object \n",
            " 17  reviews.title         34655 non-null  object \n",
            " 18  reviews.userCity      0 non-null      float64\n",
            " 19  reviews.userProvince  0 non-null      float64\n",
            " 20  reviews.username      34658 non-null  object \n",
            "dtypes: float64(5), object(16)\n",
            "memory usage: 5.6+ MB\n"
          ],
          "name": "stdout"
        }
      ]
    },
    {
      "cell_type": "code",
      "metadata": {
        "colab": {
          "base_uri": "https://localhost:8080/"
        },
        "id": "a4IvbStrq1J7",
        "outputId": "9bebba7d-4f30-4bd6-d9d4-b9458f26a7fa"
      },
      "source": [
        "#Checking for the unique items in asins column\n",
        "data[\"asins\"].unique()"
      ],
      "execution_count": null,
      "outputs": [
        {
          "output_type": "execute_result",
          "data": {
            "text/plain": [
              "array(['B01AHB9CN2', 'B00VINDBJK', 'B005PB2T0S', 'B002Y27P3M',\n",
              "       'B01AHB9CYG', 'B01AHB9C1E', 'B01J2G4VBG', 'B00ZV9PXP2',\n",
              "       'B0083Q04TA', 'B018Y229OU', 'B00REQKWGA', 'B00IOYAM4I',\n",
              "       'B018T075DC', nan, 'B00DU15MU4', 'B018Y225IA', 'B005PB2T2Q',\n",
              "       'B018Y23MNM', 'B00OQVZDJM', 'B00IOY8XWQ', 'B00LO29KXQ',\n",
              "       'B00QJDU3KY', 'B018Y22C2Y', 'B01BFIBRIE', 'B01J4ORNHU',\n",
              "       'B018SZT3BK', 'B00UH4D8G2', 'B018Y22BI4', 'B00TSUGXKE',\n",
              "       'B00L9EPT8O,B01E6AO69U', 'B018Y23P7K', 'B00X4WHP5E', 'B00QFQRELG',\n",
              "       'B00LW9XOJM', 'B00QL1ZN3G', 'B0189XYY0Q', 'B01BH83OOM',\n",
              "       'B00BFJAHF8', 'B00U3FPN4U', 'B002Y27P6Y', 'B006GWO5NE',\n",
              "       'B006GWO5WK'], dtype=object)"
            ]
          },
          "metadata": {
            "tags": []
          },
          "execution_count": 40
        }
      ]
    },
    {
      "cell_type": "code",
      "metadata": {
        "colab": {
          "base_uri": "https://localhost:8080/"
        },
        "id": "7WIifsefq4JM",
        "outputId": "31a12dd1-3cf9-4224-a436-5f2219c58232"
      },
      "source": [
        "print(\"Number of Unique ASINS:\" , len(data[\"asins\"].unique()))"
      ],
      "execution_count": null,
      "outputs": [
        {
          "output_type": "stream",
          "text": [
            "Number of Unique ASINS: 42\n"
          ],
          "name": "stdout"
        }
      ]
    },
    {
      "cell_type": "code",
      "metadata": {
        "id": "_qKnTq5mJRYw"
      },
      "source": [
        "#Importing matplotlib library\n",
        "import matplotlib.pyplot as plt\n",
        "np.random.seed(7)"
      ],
      "execution_count": null,
      "outputs": []
    },
    {
      "cell_type": "code",
      "metadata": {
        "colab": {
          "base_uri": "https://localhost:8080/"
        },
        "id": "VP3m8BryFGXa",
        "outputId": "eda66c41-d66b-4d03-b073-6ca344a494dd"
      },
      "source": [
        "#Using Stratified sampling technique we are splitting data\n",
        "from sklearn.model_selection import StratifiedShuffleSplit\n",
        "print(\"Before :{}\".format(len(data)))\n",
        "dataAfter = data.dropna(subset=[\"reviews.rating\"])\n",
        "# Removing all the Nan values\n",
        "print(\"After  :{}\".format(len(dataAfter)))\n",
        "dataAfter[\"reviews.rating\"] = dataAfter[\"reviews.rating\"].astype(int)"
      ],
      "execution_count": null,
      "outputs": [
        {
          "output_type": "stream",
          "text": [
            "Before :34660\n",
            "After  :34627\n"
          ],
          "name": "stdout"
        }
      ]
    },
    {
      "cell_type": "code",
      "metadata": {
        "id": "FQhcs2rtq-Aw"
      },
      "source": [
        "#Splitting data using Stratified Sampling.\n",
        "split = StratifiedShuffleSplit(n_splits=5, test_size=0.2)\n",
        "for train_index, test_index in split.split(dataAfter,dataAfter[\"reviews.rating\"]):\n",
        "    start_train = dataAfter.reindex(train_index)\n",
        "    start_test = dataAfter.reindex(test_index)"
      ],
      "execution_count": null,
      "outputs": []
    },
    {
      "cell_type": "code",
      "metadata": {
        "colab": {
          "base_uri": "https://localhost:8080/"
        },
        "id": "xtcUd11lFvVx",
        "outputId": "8521d4e0-2937-431e-9401-6666a231e925"
      },
      "source": [
        "#Printing the values of train and test data\n",
        "print(len(start_train))\n",
        "print(len(start_test))"
      ],
      "execution_count": null,
      "outputs": [
        {
          "output_type": "stream",
          "text": [
            "27701\n",
            "6926\n"
          ],
          "name": "stdout"
        }
      ]
    },
    {
      "cell_type": "code",
      "metadata": {
        "colab": {
          "base_uri": "https://localhost:8080/"
        },
        "id": "9xM4YbTqrEEK",
        "outputId": "b7689958-0df0-436e-909b-0fa9117c3092"
      },
      "source": [
        "#printing the rating of the reviews\n",
        "print(start_test[\"reviews.rating\"].value_counts()/len(start_test))"
      ],
      "execution_count": null,
      "outputs": [
        {
          "output_type": "stream",
          "text": [
            "5.0    0.678458\n",
            "4.0    0.254692\n",
            "3.0    0.042738\n",
            "1.0    0.012273\n",
            "2.0    0.011262\n",
            "Name: reviews.rating, dtype: float64\n"
          ],
          "name": "stdout"
        }
      ]
    },
    {
      "cell_type": "code",
      "metadata": {
        "colab": {
          "base_uri": "https://localhost:8080/",
          "height": 462
        },
        "id": "WjEwooZ8rHIO",
        "outputId": "8e22d86f-1ec8-47b3-cce8-cac8d12f8fa2"
      },
      "source": [
        "#Copying the reviews from start_train\n",
        "reviews = start_train.copy()\n",
        "reviews.head()"
      ],
      "execution_count": null,
      "outputs": [
        {
          "output_type": "execute_result",
          "data": {
            "text/html": [
              "<div>\n",
              "<style scoped>\n",
              "    .dataframe tbody tr th:only-of-type {\n",
              "        vertical-align: middle;\n",
              "    }\n",
              "\n",
              "    .dataframe tbody tr th {\n",
              "        vertical-align: top;\n",
              "    }\n",
              "\n",
              "    .dataframe thead th {\n",
              "        text-align: right;\n",
              "    }\n",
              "</style>\n",
              "<table border=\"1\" class=\"dataframe\">\n",
              "  <thead>\n",
              "    <tr style=\"text-align: right;\">\n",
              "      <th></th>\n",
              "      <th>id</th>\n",
              "      <th>name</th>\n",
              "      <th>asins</th>\n",
              "      <th>brand</th>\n",
              "      <th>categories</th>\n",
              "      <th>keys</th>\n",
              "      <th>manufacturer</th>\n",
              "      <th>reviews.date</th>\n",
              "      <th>reviews.dateAdded</th>\n",
              "      <th>reviews.dateSeen</th>\n",
              "      <th>reviews.didPurchase</th>\n",
              "      <th>reviews.doRecommend</th>\n",
              "      <th>reviews.id</th>\n",
              "      <th>reviews.numHelpful</th>\n",
              "      <th>reviews.rating</th>\n",
              "      <th>reviews.sourceURLs</th>\n",
              "      <th>reviews.text</th>\n",
              "      <th>reviews.title</th>\n",
              "      <th>reviews.userCity</th>\n",
              "      <th>reviews.userProvince</th>\n",
              "      <th>reviews.username</th>\n",
              "    </tr>\n",
              "  </thead>\n",
              "  <tbody>\n",
              "    <tr>\n",
              "      <th>10855</th>\n",
              "      <td>AVphgVaX1cnluZ0-DR74</td>\n",
              "      <td>Fire Tablet, 7 Display, Wi-Fi, 8 GB - Includes...</td>\n",
              "      <td>B018Y229OU</td>\n",
              "      <td>Amazon</td>\n",
              "      <td>Fire Tablets,Tablets,Computers &amp; Tablets,All T...</td>\n",
              "      <td>firetablet7displaywifi8gbincludesspecialoffers...</td>\n",
              "      <td>Amazon</td>\n",
              "      <td>2016-01-29T00:00:00.000Z</td>\n",
              "      <td>2017-05-21T02:27:51Z</td>\n",
              "      <td>2017-04-30T00:17:00.000Z,2017-06-07T08:13:00.000Z</td>\n",
              "      <td>NaN</td>\n",
              "      <td>True</td>\n",
              "      <td>NaN</td>\n",
              "      <td>0.0</td>\n",
              "      <td>5.0</td>\n",
              "      <td>http://reviews.bestbuy.com/3545/5025800/review...</td>\n",
              "      <td>Great price for tablet. My college son purchas...</td>\n",
              "      <td>Awesome product great stuff for kids!</td>\n",
              "      <td>NaN</td>\n",
              "      <td>NaN</td>\n",
              "      <td>EllensBiggestFan</td>\n",
              "    </tr>\n",
              "    <tr>\n",
              "      <th>12384</th>\n",
              "      <td>AVphgVaX1cnluZ0-DR74</td>\n",
              "      <td>Fire Tablet, 7 Display, Wi-Fi, 8 GB - Includes...</td>\n",
              "      <td>B018Y229OU</td>\n",
              "      <td>Amazon</td>\n",
              "      <td>Fire Tablets,Tablets,Computers &amp; Tablets,All T...</td>\n",
              "      <td>firetablet7displaywifi8gbincludesspecialoffers...</td>\n",
              "      <td>Amazon</td>\n",
              "      <td>2016-03-11T00:00:00.000Z</td>\n",
              "      <td>2017-05-21T03:19:03Z</td>\n",
              "      <td>2017-04-30T00:22:00.000Z,2017-06-07T08:20:00.000Z</td>\n",
              "      <td>NaN</td>\n",
              "      <td>True</td>\n",
              "      <td>NaN</td>\n",
              "      <td>0.0</td>\n",
              "      <td>4.0</td>\n",
              "      <td>http://reviews.bestbuy.com/3545/5025800/review...</td>\n",
              "      <td>It isn't blazing fast....but fine for streamin...</td>\n",
              "      <td>For the $....not too bad</td>\n",
              "      <td>NaN</td>\n",
              "      <td>NaN</td>\n",
              "      <td>CNYRP</td>\n",
              "    </tr>\n",
              "    <tr>\n",
              "      <th>16505</th>\n",
              "      <td>AVqVGWLKnnc1JgDc3jF1</td>\n",
              "      <td>Fire Kids Edition Tablet, 7 Display, Wi-Fi, 16...</td>\n",
              "      <td>B018Y23MNM</td>\n",
              "      <td>Amazon</td>\n",
              "      <td>Tablets,Fire Tablets,Computers &amp; Tablets,All T...</td>\n",
              "      <td>firekidseditiontablet7displaywifi16gbgreenkidp...</td>\n",
              "      <td>Amazon</td>\n",
              "      <td>2016-12-14T00:00:00.000Z</td>\n",
              "      <td>2017-06-21T07:37:58Z</td>\n",
              "      <td>2017-06-04T02:17:06.727Z,2017-06-03T18:41:32.958Z</td>\n",
              "      <td>NaN</td>\n",
              "      <td>True</td>\n",
              "      <td>NaN</td>\n",
              "      <td>0.0</td>\n",
              "      <td>5.0</td>\n",
              "      <td>http://reviews.bestbuy.com/3545/5026300/review...</td>\n",
              "      <td>Great to give to the little ones so they don't...</td>\n",
              "      <td>durable</td>\n",
              "      <td>NaN</td>\n",
              "      <td>NaN</td>\n",
              "      <td>debbied</td>\n",
              "    </tr>\n",
              "    <tr>\n",
              "      <th>14636</th>\n",
              "      <td>AVphgVaX1cnluZ0-DR74</td>\n",
              "      <td>Brand New Amazon Kindle Fire 16gb 7 Ips Displa...</td>\n",
              "      <td>B018Y229OU</td>\n",
              "      <td>Amazon</td>\n",
              "      <td>Fire Tablets,Tablets,Computers &amp; Tablets,All T...</td>\n",
              "      <td>firetablet7displaywifi8gbincludesspecialoffers...</td>\n",
              "      <td>Amazon</td>\n",
              "      <td>2017-05-03T00:00:00.000Z</td>\n",
              "      <td>2017-07-02T14:40:42Z</td>\n",
              "      <td>2017-06-07T08:14:00.000Z</td>\n",
              "      <td>NaN</td>\n",
              "      <td>True</td>\n",
              "      <td>NaN</td>\n",
              "      <td>0.0</td>\n",
              "      <td>4.0</td>\n",
              "      <td>http://reviews.bestbuy.com/3545/5025800/review...</td>\n",
              "      <td>I've bought 4 of these items on different occa...</td>\n",
              "      <td>Fire/Kindle</td>\n",
              "      <td>NaN</td>\n",
              "      <td>NaN</td>\n",
              "      <td>Maria</td>\n",
              "    </tr>\n",
              "    <tr>\n",
              "      <th>22309</th>\n",
              "      <td>AVpfl8cLLJeJML43AE3S</td>\n",
              "      <td>Echo (White),,,\\r\\nEcho (White),,,</td>\n",
              "      <td>B00L9EPT8O,B01E6AO69U</td>\n",
              "      <td>Amazon</td>\n",
              "      <td>Stereos,Remote Controls,Amazon Echo,Audio Dock...</td>\n",
              "      <td>echowhite/263039693056,echowhite/152558276095,...</td>\n",
              "      <td>Amazon</td>\n",
              "      <td>2017-06-12T00:00:00.000Z</td>\n",
              "      <td>NaN</td>\n",
              "      <td>2017-09-28T00:00:00Z,2017-09-08T00:00:00Z,2017...</td>\n",
              "      <td>NaN</td>\n",
              "      <td>True</td>\n",
              "      <td>NaN</td>\n",
              "      <td>0.0</td>\n",
              "      <td>4.0</td>\n",
              "      <td>http://reviews.bestbuy.com/3545/5588528/review...</td>\n",
              "      <td>we have enjoyed the unit and have used it a lo...</td>\n",
              "      <td>nice product</td>\n",
              "      <td>NaN</td>\n",
              "      <td>NaN</td>\n",
              "      <td>phil</td>\n",
              "    </tr>\n",
              "  </tbody>\n",
              "</table>\n",
              "</div>"
            ],
            "text/plain": [
              "                         id  ...  reviews.username\n",
              "10855  AVphgVaX1cnluZ0-DR74  ...  EllensBiggestFan\n",
              "12384  AVphgVaX1cnluZ0-DR74  ...             CNYRP\n",
              "16505  AVqVGWLKnnc1JgDc3jF1  ...           debbied\n",
              "14636  AVphgVaX1cnluZ0-DR74  ...             Maria\n",
              "22309  AVpfl8cLLJeJML43AE3S  ...              phil\n",
              "\n",
              "[5 rows x 21 columns]"
            ]
          },
          "metadata": {
            "tags": []
          },
          "execution_count": 61
        }
      ]
    },
    {
      "cell_type": "code",
      "metadata": {
        "colab": {
          "base_uri": "https://localhost:8080/"
        },
        "id": "_wO_AA4VGrYm",
        "outputId": "d962e259-734b-4ddc-8b64-89610c4ab816"
      },
      "source": [
        "#printing the info of the dataframe info\n",
        "print(reviews.info())"
      ],
      "execution_count": null,
      "outputs": [
        {
          "output_type": "stream",
          "text": [
            "<class 'pandas.core.frame.DataFrame'>\n",
            "Int64Index: 27701 entries, 10855 to 14998\n",
            "Data columns (total 21 columns):\n",
            " #   Column                Non-Null Count  Dtype  \n",
            "---  ------                --------------  -----  \n",
            " 0   id                    27672 non-null  object \n",
            " 1   name                  22290 non-null  object \n",
            " 2   asins                 27671 non-null  object \n",
            " 3   brand                 27672 non-null  object \n",
            " 4   categories            27672 non-null  object \n",
            " 5   keys                  27672 non-null  object \n",
            " 6   manufacturer          27672 non-null  object \n",
            " 7   reviews.date          27652 non-null  object \n",
            " 8   reviews.dateAdded     19266 non-null  object \n",
            " 9   reviews.dateSeen      27672 non-null  object \n",
            " 10  reviews.didPurchase   0 non-null      object \n",
            " 11  reviews.doRecommend   27265 non-null  object \n",
            " 12  reviews.id            0 non-null      float64\n",
            " 13  reviews.numHelpful    27310 non-null  float64\n",
            " 14  reviews.rating        27672 non-null  float64\n",
            " 15  reviews.sourceURLs    27672 non-null  object \n",
            " 16  reviews.text          27672 non-null  object \n",
            " 17  reviews.title         27668 non-null  object \n",
            " 18  reviews.userCity      0 non-null      float64\n",
            " 19  reviews.userProvince  0 non-null      float64\n",
            " 20  reviews.username      27672 non-null  object \n",
            "dtypes: float64(5), object(16)\n",
            "memory usage: 4.6+ MB\n",
            "None\n"
          ],
          "name": "stdout"
        }
      ]
    },
    {
      "cell_type": "code",
      "metadata": {
        "colab": {
          "base_uri": "https://localhost:8080/"
        },
        "id": "LkCuVTVwGxJi",
        "outputId": "26085f4b-7c1f-40ca-fdd2-5483bf23b872"
      },
      "source": [
        "#printing the review with grouping of asins and name\n",
        "print(reviews.groupby(\"asins\")[\"name\"].unique())"
      ],
      "execution_count": null,
      "outputs": [
        {
          "output_type": "stream",
          "text": [
            "asins\n",
            "B005PB2T0S               [Amazon Kindle Lighted Leather Cover,,,\\r\\nAma...\n",
            "B005PB2T2Q               [Fire Kids Edition Tablet, 7 Display, Wi-Fi, 1...\n",
            "B00DU15MU4               [Brand New Amazon Kindle Fire 16gb 7 Ips Displ...\n",
            "B00IOY8XWQ               [Kindle Voyage E-reader, 6 High-Resolution Dis...\n",
            "B00IOYAM4I               [Brand New Amazon Kindle Fire 16gb 7 Ips Displ...\n",
            "B00L9EPT8O,B01E6AO69U    [Echo (White),,,\\r\\nEcho (White),,,, Amazon Fi...\n",
            "B00LO29KXQ               [Fire Tablet, 7 Display, Wi-Fi, 8 GB - Include...\n",
            "B00LW9XOJM                                                           [nan]\n",
            "B00OQVZDJM               [Amazon Kindle Paperwhite - eBook reader - 4 G...\n",
            "B00QFQRELG                                                           [nan]\n",
            "B00QJDU3KY               [Fire Tablet, 7 Display, Wi-Fi, 8 GB - Include...\n",
            "B00QL1ZN3G                                                           [nan]\n",
            "B00REQKWGA               [Brand New Amazon Kindle Fire 16gb 7 Ips Displ...\n",
            "B00TSUGXKE                            [Echo (White),,,\\r\\nEcho (White),,,]\n",
            "B00U3FPN4U                                                           [nan]\n",
            "B00UH4D8G2                            [Echo (White),,,\\r\\nEcho (White),,,]\n",
            "B00VINDBJK               [Kindle Oasis E-reader with Leather Charging C...\n",
            "B00X4WHP5E                                                           [nan]\n",
            "B00ZV9PXP2               [Fire Tablet, 7 Display, Wi-Fi, 8 GB - Include...\n",
            "B0189XYY0Q                                                           [nan]\n",
            "B018SZT3BK               [Fire Tablet, 7 Display, Wi-Fi, 8 GB - Include...\n",
            "B018T075DC               [Brand New Amazon Kindle Fire 16gb 7 Ips Displ...\n",
            "B018Y225IA               [Brand New Amazon Kindle Fire 16gb 7 Ips Displ...\n",
            "B018Y229OU               [Fire Tablet, 7 Display, Wi-Fi, 8 GB - Include...\n",
            "B018Y22BI4                            [Echo (White),,,\\r\\nEcho (White),,,]\n",
            "B018Y22C2Y               [Fire Tablet, 7 Display, Wi-Fi, 8 GB - Include...\n",
            "B018Y23MNM               [Fire Kids Edition Tablet, 7 Display, Wi-Fi, 1...\n",
            "B01AHB9C1E               [Fire HD 8 Tablet with Alexa, 8 HD Display, 32...\n",
            "B01AHB9CN2               [All-New Fire HD 8 Tablet, 8 HD Display, Wi-Fi...\n",
            "B01AHB9CYG               [All-New Fire HD 8 Tablet, 8 HD Display, Wi-Fi...\n",
            "B01BFIBRIE               [Fire Tablet, 7 Display, Wi-Fi, 8 GB - Include...\n",
            "B01BH83OOM                                                           [nan]\n",
            "B01J2G4VBG               [All-New Kindle E-reader - Black, 6 Glare-Free...\n",
            "B01J4ORNHU               [Fire Tablet, 7 Display, Wi-Fi, 8 GB - Include...\n",
            "Name: name, dtype: object\n"
          ],
          "name": "stdout"
        }
      ]
    },
    {
      "cell_type": "code",
      "metadata": {
        "id": "A3YFW126HP1d"
      },
      "source": [
        "#Finding the different names present in the dataset\n",
        "different_names = reviews[reviews[\"asins\"] ==\"B00L9EPT8O,B01E6AO69U\"][\"name\"].unique()"
      ],
      "execution_count": null,
      "outputs": []
    },
    {
      "cell_type": "code",
      "metadata": {
        "colab": {
          "base_uri": "https://localhost:8080/"
        },
        "id": "g0qt2kWHrMnd",
        "outputId": "42b5eae3-ff29-4999-93c2-11ccbc3a8cce"
      },
      "source": [
        "#Printing the unique names present in the data\n",
        "for name in different_names:\n",
        "    print(name)\n",
        "print(reviews[reviews[\"asins\"] == \"B00L9EPT8O,B01E6AO69U\"][\"name\"].value_counts())"
      ],
      "execution_count": null,
      "outputs": [
        {
          "output_type": "stream",
          "text": [
            "Echo (White),,,\r\n",
            "Echo (White),,,\n",
            "Amazon Fire Tv,,,\r\n",
            "Amazon Fire Tv,,,\n",
            "nan\n",
            "Amazon - Amazon Tap Portable Bluetooth and Wi-Fi Speaker - Black,,,\r\n",
            "Amazon - Amazon Tap Portable Bluetooth and Wi-Fi Speaker - Black,,,\n",
            "Amazon 9W PowerFast Official OEM USB Charger and Power Adapter for Fire Tablets and Kindle eReaders,,,\r\n",
            "Amazon 9W PowerFast Official OEM USB Charger and Power Adapter for Fire Tablets and Kindle eReaders,,,\n",
            "Amazon Fire Hd 10 Tablet, Wi-Fi, 16 Gb, Special Offers - Silver Aluminum,,,\r\n",
            "Amazon Fire Hd 10 Tablet, Wi-Fi, 16 Gb, Special Offers - Silver Aluminum,,,\n",
            "Kindle Dx Leather Cover, Black (fits 9.7 Display, Latest and 2nd Generation Kindle Dxs),,\n",
            "Echo (Black),,,\r\n",
            "Echo (Black),,,\n",
            "New Amazon Kindle Fire Hd 9w Powerfast Adapter Charger + Micro Usb Angle Cable,,,\r\n",
            "New Amazon Kindle Fire Hd 9w Powerfast Adapter Charger + Micro Usb Angle Cable,,,\n",
            "Amazon Kindle Fire 5ft USB to Micro-USB Cable (works with most Micro-USB Tablets),,,\r\n",
            "Amazon Kindle Fire 5ft USB to Micro-USB Cable (works with most Micro-USB Tablets),,,\n",
            "Amazon 5W USB Official OEM Charger and Power Adapter for Fire Tablets and Kindle eReaders,,,\r\n",
            "Amazon 5W USB Official OEM Charger and Power Adapter for Fire Tablets and Kindle eReaders,,,\n",
            "Amazon Fire Hd 6 Standing Protective Case(4th Generation - 2014 Release), Cayenne Red,,,\r\n",
            "Amazon Fire Hd 6 Standing Protective Case(4th Generation - 2014 Release), Cayenne Red,,,\n",
            "Coconut Water Red Tea 16.5 Oz (pack of 12),,,\r\n",
            "Amazon Fire Tv,,,\n",
            "Echo (Black),,,\r\n",
            "Amazon 9W PowerFast Official OEM USB Charger and Power Adapter for Fire Tablets and Kindle eReaders,,,\n",
            "New Amazon Kindle Fire Hd 9w Powerfast Adapter Charger + Micro Usb Angle Cable,,,\r\n",
            "\n",
            "Amazon Fire Tv,,,\r\n",
            "Kindle Dx Leather Cover, Black (fits 9.7 Display, Latest and 2nd Generation Kindle Dxs)\",,\n",
            "Echo (White),,,\\r\\nEcho (White),,,                                                                                                                                                                                  2285\n",
            "Amazon Fire Tv,,,\\r\\nAmazon Fire Tv,,,                                                                                                                                                                              2022\n",
            "Amazon - Amazon Tap Portable Bluetooth and Wi-Fi Speaker - Black,,,\\r\\nAmazon - Amazon Tap Portable Bluetooth and Wi-Fi Speaker - Black,,,                                                                           246\n",
            "Amazon Fire Hd 10 Tablet, Wi-Fi, 16 Gb, Special Offers - Silver Aluminum,,,\\r\\nAmazon Fire Hd 10 Tablet, Wi-Fi, 16 Gb, Special Offers - Silver Aluminum,,,                                                           101\n",
            "Amazon 9W PowerFast Official OEM USB Charger and Power Adapter for Fire Tablets and Kindle eReaders,,,\\r\\nAmazon 9W PowerFast Official OEM USB Charger and Power Adapter for Fire Tablets and Kindle eReaders,,,      30\n",
            "Kindle Dx Leather Cover, Black (fits 9.7 Display, Latest and 2nd Generation Kindle Dxs),,                                                                                                                              7\n",
            "Amazon 5W USB Official OEM Charger and Power Adapter for Fire Tablets and Kindle eReaders,,,\\r\\nAmazon 5W USB Official OEM Charger and Power Adapter for Fire Tablets and Kindle eReaders,,,                           6\n",
            "Amazon Fire Hd 6 Standing Protective Case(4th Generation - 2014 Release), Cayenne Red,,,\\r\\nAmazon Fire Hd 6 Standing Protective Case(4th Generation - 2014 Release), Cayenne Red,,,                                   6\n",
            "New Amazon Kindle Fire Hd 9w Powerfast Adapter Charger + Micro Usb Angle Cable,,,\\r\\nNew Amazon Kindle Fire Hd 9w Powerfast Adapter Charger + Micro Usb Angle Cable,,,                                                 4\n",
            "Echo (Black),,,\\r\\nEcho (Black),,,                                                                                                                                                                                     3\n",
            "Amazon Kindle Fire 5ft USB to Micro-USB Cable (works with most Micro-USB Tablets),,,\\r\\nAmazon Kindle Fire 5ft USB to Micro-USB Cable (works with most Micro-USB Tablets),,,                                           2\n",
            "New Amazon Kindle Fire Hd 9w Powerfast Adapter Charger + Micro Usb Angle Cable,,,\\r\\n                                                                                                                                  1\n",
            "Coconut Water Red Tea 16.5 Oz (pack of 12),,,\\r\\nAmazon Fire Tv,,,                                                                                                                                                     1\n",
            "Echo (Black),,,\\r\\nAmazon 9W PowerFast Official OEM USB Charger and Power Adapter for Fire Tablets and Kindle eReaders,,,                                                                                              1\n",
            "Amazon Fire Tv,,,\\r\\nKindle Dx Leather Cover, Black (fits 9.7 Display, Latest and 2nd Generation Kindle Dxs)\",,                                                                                                        1\n",
            "Name: name, dtype: int64\n"
          ],
          "name": "stdout"
        }
      ]
    },
    {
      "cell_type": "code",
      "metadata": {
        "colab": {
          "base_uri": "https://localhost:8080/"
        },
        "id": "utDGSFA0IJml",
        "outputId": "40ee8a6e-e119-4bf2-8ab7-3fd2f6848b30"
      },
      "source": [
        "#Finding the mean of the review rating\n",
        "print(reviews[\"reviews.rating\"].mean())"
      ],
      "execution_count": null,
      "outputs": [
        {
          "output_type": "stream",
          "text": [
            "4.587850534836658\n"
          ],
          "name": "stdout"
        }
      ]
    },
    {
      "cell_type": "code",
      "metadata": {
        "colab": {
          "base_uri": "https://localhost:8080/",
          "height": 853
        },
        "id": "mNtGNFWHrT70",
        "outputId": "9e1dbe61-5c10-4062-ce2b-670a24a988a5"
      },
      "source": [
        "#We are checking for the entire training set mean value\n",
        "asins_count_ix = reviews[\"asins\"].value_counts().index\n",
        "plt.subplots(2,1,figsize=(16,12))\n",
        "plt.subplot(2,1,1)\n",
        "reviews[\"asins\"].value_counts().plot(kind=\"bar\", title=\"ASIN Frequency\",color=\"orange\")\n",
        "plt.subplot(2,1,2)\n",
        "sns.pointplot(x=\"asins\", y=\"reviews.rating\", order=asins_count_ix, data=reviews)\n",
        "plt.xticks(rotation=90)\n",
        "plt.show()"
      ],
      "execution_count": null,
      "outputs": [
        {
          "output_type": "display_data",
          "data": {
            "image/png": "[encoded data removed]",
            "text/plain": [
              "<Figure size 1152x864 with 2 Axes>"
            ]
          },
          "metadata": {
            "tags": []
          }
        }
      ]
    },
    {
      "cell_type": "code",
      "metadata": {
        "id": "9QUxZNr2Itce"
      },
      "source": [
        "#Defining a function to set the positive negative and neutral\n",
        "def sentiments(rating):\n",
        "    if (rating == 5) or (rating == 4):\n",
        "        return \"Positive\"\n",
        "    elif rating == 3:\n",
        "        return \"Neutral\"\n",
        "    elif (rating == 2) or (rating == 1):\n",
        "        return \"Negative\""
      ],
      "execution_count": null,
      "outputs": []
    },
    {
      "cell_type": "code",
      "metadata": {
        "id": "NgyUSwt3rW6L"
      },
      "source": [
        "# Add sentiments to the data\n",
        "start_train[\"Sentiment\"] = start_train[\"reviews.rating\"].apply(sentiments)\n",
        "start_test[\"Sentiment\"] = start_test[\"reviews.rating\"].apply(sentiments)"
      ],
      "execution_count": null,
      "outputs": []
    },
    {
      "cell_type": "code",
      "metadata": {
        "colab": {
          "base_uri": "https://localhost:8080/"
        },
        "id": "eSEFO5RSrlmM",
        "outputId": "1050aa46-0670-4383-eee4-6a5b60ed3379"
      },
      "source": [
        "#Printing the outputs\n",
        "print(start_train[\"Sentiment\"][:20])"
      ],
      "execution_count": null,
      "outputs": [
        {
          "output_type": "stream",
          "text": [
            "10855    Positive\n",
            "12384    Positive\n",
            "16505    Positive\n",
            "14636    Positive\n",
            "22309    Positive\n",
            "1646     Positive\n",
            "26052    Positive\n",
            "14125    Positive\n",
            "8167     Positive\n",
            "18519    Positive\n",
            "9823      Neutral\n",
            "8971     Positive\n",
            "3501     Positive\n",
            "8578     Positive\n",
            "4100     Positive\n",
            "8423     Positive\n",
            "7089     Positive\n",
            "12569    Positive\n",
            "12309    Positive\n",
            "2225     Positive\n",
            "Name: Sentiment, dtype: object\n"
          ],
          "name": "stdout"
        }
      ]
    },
    {
      "cell_type": "code",
      "metadata": {
        "id": "Xa0XEnFAKAU6"
      },
      "source": [
        ""
      ],
      "execution_count": null,
      "outputs": []
    }
  ]
}