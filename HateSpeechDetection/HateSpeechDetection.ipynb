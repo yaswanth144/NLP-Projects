{
  "nbformat": 4,
  "nbformat_minor": 0,
  "metadata": {
    "colab": {
      "name": "Untitled19.ipynb",
      "provenance": []
    },
    "kernelspec": {
      "name": "python3",
      "display_name": "Python 3"
    },
    "language_info": {
      "name": "python"
    }
  },
  "cells": [
    {
      "cell_type": "markdown",
      "metadata": {
        "id": "KMQsBc70VAjH"
      },
      "source": [
        "#Hate Speech Detection\n"
      ]
    },
    {
      "cell_type": "code",
      "metadata": {
        "id": "bTv49NaEU9tN"
      },
      "source": [
        "#Importing Pandas and re library\n",
        "import pandas as pd\n",
        "import re"
      ],
      "execution_count": 15,
      "outputs": []
    },
    {
      "cell_type": "code",
      "metadata": {
        "id": "n0I8VkAzXXgF"
      },
      "source": [
        "#Loading the Training dataset\n",
        "train = pd.read_csv('train.csv')"
      ],
      "execution_count": 16,
      "outputs": []
    },
    {
      "cell_type": "code",
      "metadata": {
        "id": "ThpVfsXpXaPx"
      },
      "source": [
        "#Loading the Test dataset\n",
        "test = pd.read_csv('test.csv')"
      ],
      "execution_count": 17,
      "outputs": []
    },
    {
      "cell_type": "code",
      "metadata": {
        "id": "yrWmYhOHVMrt"
      },
      "source": [
        "#Defining a function to return a clean text\n",
        "def  cleaning_text(df, text_field):\n",
        "    df[text_field] = df[text_field].str.lower()\n",
        "    df[text_field] = df[text_field].apply(lambda elem: re.sub(r\"(@[A-Za-z0-9]+)|([^0-9A-Za-z \\t])|(\\w+:\\/\\/\\S+)|^rt|http.+?\", \"\", elem))  \n",
        "    return df\n"
      ],
      "execution_count": 18,
      "outputs": []
    },
    {
      "cell_type": "code",
      "metadata": {
        "id": "fdFoTdCcYQa5"
      },
      "source": [
        "#Cleaning the test and training dataset\n",
        "test_clean  = cleaning_text(test, \"tweet\")\n",
        "train_clean = cleaning_text(train,\"tweet\")"
      ],
      "execution_count": 19,
      "outputs": []
    },
    {
      "cell_type": "code",
      "metadata": {
        "colab": {
          "base_uri": "https://localhost:8080/"
        },
        "id": "vnaZjNY3WRb-",
        "outputId": "62b28e31-df4f-42f0-d13e-9c72f98b6a56"
      },
      "source": [
        "#Importing resample from sklearn library\n",
        "from sklearn.utils import resample\n",
        "train_major = train_clean[train_clean.label==0]\n",
        "train_minor = train_clean[train_clean.label==1]\n",
        "#Here we are upsampling the data\n",
        "train_minor_upsampled = resample(train_minor,replace=True,n_samples=len(train_major),random_state=123)\n",
        "train_upsampled = pd.concat([train_minor_upsampled, train_major])\n",
        "#The upsampled data\n",
        "train_upsampled['label'].value_counts()"
      ],
      "execution_count": 29,
      "outputs": [
        {
          "output_type": "execute_result",
          "data": {
            "text/plain": [
              "1    29720\n",
              "0    29720\n",
              "Name: label, dtype: int64"
            ]
          },
          "metadata": {
            "tags": []
          },
          "execution_count": 29
        }
      ]
    },
    {
      "cell_type": "code",
      "metadata": {
        "id": "G3OUKNsDWR2B"
      },
      "source": [
        "#Importing several modules from sklearn library\n",
        "from sklearn.feature_extraction.text import TfidfVectorizer\n",
        "from sklearn.pipeline import Pipeline\n",
        "from sklearn.feature_extraction.text import CountVectorizer\n",
        "from sklearn.feature_extraction.text import TfidfTransformer\n",
        "from sklearn.linear_model import SGDClassifier\n"
      ],
      "execution_count": 23,
      "outputs": []
    },
    {
      "cell_type": "code",
      "metadata": {
        "id": "luwFub2acYDZ"
      },
      "source": [
        "#Here we are building the pipeline of Scikit learn SGDClassifier\n",
        "pipeline_SGD = Pipeline([('vect', CountVectorizer()),('tfidf',  TfidfTransformer()),('nb', SGDClassifier()),])"
      ],
      "execution_count": 31,
      "outputs": []
    },
    {
      "cell_type": "code",
      "metadata": {
        "id": "ZfdAWWDHWVz-"
      },
      "source": [
        "#Importing the library for splitting test and training data\n",
        "from sklearn.model_selection import train_test_split\n",
        "X_train, X_test, y_train, y_test = train_test_split(train_upsampled['tweet'],train_upsampled['label'],random_state = 0)"
      ],
      "execution_count": 33,
      "outputs": []
    },
    {
      "cell_type": "code",
      "metadata": {
        "id": "cgaJHSF5c6rm"
      },
      "source": [
        "#Training our model\n",
        "model = pipeline_SGD.fit(X_train, y_train)\n",
        "y_predict = model.predict(X_test)"
      ],
      "execution_count": null,
      "outputs": []
    },
    {
      "cell_type": "code",
      "metadata": {
        "colab": {
          "base_uri": "https://localhost:8080/"
        },
        "id": "vscwL86gWZIY",
        "outputId": "ac71a89a-def6-4c27-bce6-ce43f047ce4f"
      },
      "source": [
        "#Calculating f1_score using the sklearn library\n",
        "from sklearn.metrics import f1_score\n",
        "f1_score(y_test, y_predict)"
      ],
      "execution_count": 34,
      "outputs": [
        {
          "output_type": "execute_result",
          "data": {
            "text/plain": [
              "0.9696646443096207"
            ]
          },
          "metadata": {
            "tags": []
          },
          "execution_count": 34
        }
      ]
    }
  ]
}