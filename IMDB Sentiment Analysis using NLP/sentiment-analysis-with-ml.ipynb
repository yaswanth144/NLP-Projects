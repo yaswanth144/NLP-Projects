{
 "cells": [
  {
   "cell_type": "code",
   "execution_count": 2,
   "id": "religious-temperature",
   "metadata": {
    "execution": {
     "iopub.execute_input": "2021-07-06T07:24:05.948346Z",
     "iopub.status.busy": "2021-07-06T07:24:05.947616Z",
     "iopub.status.idle": "2021-07-06T07:24:07.961388Z",
     "shell.execute_reply": "2021-07-06T07:24:07.960607Z",
     "shell.execute_reply.started": "2021-07-06T06:53:18.530894Z"
    },
    "papermill": {
     "duration": 2.06114,
     "end_time": "2021-07-06T07:24:07.961601",
     "exception": false,
     "start_time": "2021-07-06T07:24:05.900461",
     "status": "completed"
    },
    "tags": []
   },
   "outputs": [],
   "source": [
    "## Relevant imports\n",
    "\n",
    "import pandas as pd\n",
    "import numpy as np\n",
    "import os\n",
    "import matplotlib.pyplot as plt\n",
    "import re\n",
    "\n",
    "from collections import defaultdict\n",
    "\n",
    "# Tokenizer imports\n",
    "from nltk.tokenize import sent_tokenize\n",
    "from nltk.tokenize import word_tokenize\n",
    "from nltk.tokenize import WordPunctTokenizer\n",
    "from nltk.tokenize import regexp_tokenize\n",
    "\n",
    "# NLTK corpus and stemming/lemmatizer imports\n",
    "from nltk import pos_tag\n",
    "from nltk.corpus import stopwords\n",
    "from nltk.corpus import wordnet\n",
    "from nltk.stem import WordNetLemmatizer\n",
    "\n",
    "# Scikit-learn packages\n",
    "from sklearn.preprocessing import LabelEncoder\n",
    "from sklearn.feature_extraction.text import TfidfVectorizer\n",
    "from sklearn import model_selection, naive_bayes, svm, linear_model\n",
    "from sklearn.metrics import accuracy_score, confusion_matrix, classification_report\n",
    "\n",
    "# Gensim imports\n",
    "import gensim"
   ]
  },
  {
   "cell_type": "code",
   "execution_count": 3,
   "id": "robust-carbon",
   "metadata": {
    "execution": {
     "iopub.execute_input": "2021-07-06T07:24:08.048227Z",
     "iopub.status.busy": "2021-07-06T07:24:08.047477Z",
     "iopub.status.idle": "2021-07-06T07:24:09.802438Z",
     "shell.execute_reply": "2021-07-06T07:24:09.801827Z",
     "shell.execute_reply.started": "2021-07-06T05:37:04.292223Z"
    },
    "papermill": {
     "duration": 1.80067,
     "end_time": "2021-07-06T07:24:09.802594",
     "exception": false,
     "start_time": "2021-07-06T07:24:08.001924",
     "status": "completed"
    },
    "tags": []
   },
   "outputs": [],
   "source": [
    "data = pd.read_csv(\"/kaggle/input/imdb-dataset-of-50k-movie-reviews/IMDB Dataset.csv\")"
   ]
  },
  {
   "cell_type": "code",
   "execution_count": 4,
   "id": "signed-anxiety",
   "metadata": {
    "execution": {
     "iopub.execute_input": "2021-07-06T07:24:09.890733Z",
     "iopub.status.busy": "2021-07-06T07:24:09.889960Z",
     "iopub.status.idle": "2021-07-06T07:24:09.894785Z",
     "shell.execute_reply": "2021-07-06T07:24:09.894295Z",
     "shell.execute_reply.started": "2021-07-06T05:37:06.002558Z"
    },
    "papermill": {
     "duration": 0.052251,
     "end_time": "2021-07-06T07:24:09.894925",
     "exception": false,
     "start_time": "2021-07-06T07:24:09.842674",
     "status": "completed"
    },
    "tags": []
   },
   "outputs": [
    {
     "data": {
      "text/plain": [
       "(50000, 2)"
      ]
     },
     "execution_count": 4,
     "metadata": {},
     "output_type": "execute_result"
    }
   ],
   "source": [
    "data.shape"
   ]
  },
  {
   "cell_type": "code",
   "execution_count": 5,
   "id": "prospective-distributor",
   "metadata": {
    "execution": {
     "iopub.execute_input": "2021-07-06T07:24:09.985928Z",
     "iopub.status.busy": "2021-07-06T07:24:09.985297Z",
     "iopub.status.idle": "2021-07-06T07:24:10.004538Z",
     "shell.execute_reply": "2021-07-06T07:24:10.003965Z",
     "shell.execute_reply.started": "2021-07-06T05:37:06.012188Z"
    },
    "papermill": {
     "duration": 0.068692,
     "end_time": "2021-07-06T07:24:10.004684",
     "exception": false,
     "start_time": "2021-07-06T07:24:09.935992",
     "status": "completed"
    },
    "tags": []
   },
   "outputs": [
    {
     "data": {
      "text/html": [
       "<div>\n",
       "<style scoped>\n",
       "    .dataframe tbody tr th:only-of-type {\n",
       "        vertical-align: middle;\n",
       "    }\n",
       "\n",
       "    .dataframe tbody tr th {\n",
       "        vertical-align: top;\n",
       "    }\n",
       "\n",
       "    .dataframe thead th {\n",
       "        text-align: right;\n",
       "    }\n",
       "</style>\n",
       "<table border=\"1\" class=\"dataframe\">\n",
       "  <thead>\n",
       "    <tr style=\"text-align: right;\">\n",
       "      <th></th>\n",
       "      <th>review</th>\n",
       "      <th>sentiment</th>\n",
       "    </tr>\n",
       "  </thead>\n",
       "  <tbody>\n",
       "    <tr>\n",
       "      <th>0</th>\n",
       "      <td>One of the other reviewers has mentioned that ...</td>\n",
       "      <td>positive</td>\n",
       "    </tr>\n",
       "    <tr>\n",
       "      <th>1</th>\n",
       "      <td>A wonderful little production. &lt;br /&gt;&lt;br /&gt;The...</td>\n",
       "      <td>positive</td>\n",
       "    </tr>\n",
       "    <tr>\n",
       "      <th>2</th>\n",
       "      <td>I thought this was a wonderful way to spend ti...</td>\n",
       "      <td>positive</td>\n",
       "    </tr>\n",
       "    <tr>\n",
       "      <th>3</th>\n",
       "      <td>Basically there's a family where a little boy ...</td>\n",
       "      <td>negative</td>\n",
       "    </tr>\n",
       "    <tr>\n",
       "      <th>4</th>\n",
       "      <td>Petter Mattei's \"Love in the Time of Money\" is...</td>\n",
       "      <td>positive</td>\n",
       "    </tr>\n",
       "  </tbody>\n",
       "</table>\n",
       "</div>"
      ],
      "text/plain": [
       "                                              review sentiment\n",
       "0  One of the other reviewers has mentioned that ...  positive\n",
       "1  A wonderful little production. <br /><br />The...  positive\n",
       "2  I thought this was a wonderful way to spend ti...  positive\n",
       "3  Basically there's a family where a little boy ...  negative\n",
       "4  Petter Mattei's \"Love in the Time of Money\" is...  positive"
      ]
     },
     "execution_count": 5,
     "metadata": {},
     "output_type": "execute_result"
    }
   ],
   "source": [
    "data.head()"
   ]
  },
  {
   "cell_type": "code",
   "execution_count": 6,
   "id": "upset-arrest",
   "metadata": {
    "execution": {
     "iopub.execute_input": "2021-07-06T07:24:10.098171Z",
     "iopub.status.busy": "2021-07-06T07:24:10.097206Z",
     "iopub.status.idle": "2021-07-06T07:24:10.103501Z",
     "shell.execute_reply": "2021-07-06T07:24:10.102912Z",
     "shell.execute_reply.started": "2021-07-06T05:37:06.043774Z"
    },
    "papermill": {
     "duration": 0.058297,
     "end_time": "2021-07-06T07:24:10.103644",
     "exception": false,
     "start_time": "2021-07-06T07:24:10.045347",
     "status": "completed"
    },
    "tags": []
   },
   "outputs": [
    {
     "data": {
      "text/plain": [
       "array(['positive', 'negative'], dtype=object)"
      ]
     },
     "execution_count": 6,
     "metadata": {},
     "output_type": "execute_result"
    }
   ],
   "source": [
    "data.sentiment.unique()"
   ]
  },
  {
   "cell_type": "code",
   "execution_count": 7,
   "id": "constant-hawaii",
   "metadata": {
    "execution": {
     "iopub.execute_input": "2021-07-06T07:24:10.205393Z",
     "iopub.status.busy": "2021-07-06T07:24:10.204426Z",
     "iopub.status.idle": "2021-07-06T07:24:10.208940Z",
     "shell.execute_reply": "2021-07-06T07:24:10.208264Z",
     "shell.execute_reply.started": "2021-07-06T05:37:08.134118Z"
    },
    "papermill": {
     "duration": 0.064929,
     "end_time": "2021-07-06T07:24:10.209233",
     "exception": false,
     "start_time": "2021-07-06T07:24:10.144304",
     "status": "completed"
    },
    "tags": []
   },
   "outputs": [
    {
     "data": {
      "text/plain": [
       "positive    25000\n",
       "negative    25000\n",
       "Name: sentiment, dtype: int64"
      ]
     },
     "execution_count": 7,
     "metadata": {},
     "output_type": "execute_result"
    }
   ],
   "source": [
    "data.sentiment.value_counts()"
   ]
  },
  {
   "cell_type": "code",
   "execution_count": 8,
   "id": "valid-yesterday",
   "metadata": {
    "execution": {
     "iopub.execute_input": "2021-07-06T07:24:10.296428Z",
     "iopub.status.busy": "2021-07-06T07:24:10.295426Z",
     "iopub.status.idle": "2021-07-06T07:24:10.303690Z",
     "shell.execute_reply": "2021-07-06T07:24:10.303036Z",
     "shell.execute_reply.started": "2021-07-06T05:37:10.756647Z"
    },
    "papermill": {
     "duration": 0.053188,
     "end_time": "2021-07-06T07:24:10.303856",
     "exception": false,
     "start_time": "2021-07-06T07:24:10.250668",
     "status": "completed"
    },
    "tags": []
   },
   "outputs": [
    {
     "data": {
      "text/plain": [
       "review       object\n",
       "sentiment    object\n",
       "dtype: object"
      ]
     },
     "execution_count": 8,
     "metadata": {},
     "output_type": "execute_result"
    }
   ],
   "source": [
    "data.dtypes"
   ]
  },
  {
   "cell_type": "code",
   "execution_count": 9,
   "id": "mysterious-process",
   "metadata": {
    "execution": {
     "iopub.execute_input": "2021-07-06T07:24:10.391488Z",
     "iopub.status.busy": "2021-07-06T07:24:10.390456Z",
     "iopub.status.idle": "2021-07-06T07:24:10.453252Z",
     "shell.execute_reply": "2021-07-06T07:24:10.453694Z",
     "shell.execute_reply.started": "2021-07-06T05:37:11.717398Z"
    },
    "papermill": {
     "duration": 0.108328,
     "end_time": "2021-07-06T07:24:10.453943",
     "exception": false,
     "start_time": "2021-07-06T07:24:10.345615",
     "status": "completed"
    },
    "tags": []
   },
   "outputs": [
    {
     "data": {
      "text/plain": [
       "418"
      ]
     },
     "execution_count": 9,
     "metadata": {},
     "output_type": "execute_result"
    }
   ],
   "source": [
    "data.review.duplicated().sum()"
   ]
  },
  {
   "cell_type": "code",
   "execution_count": 10,
   "id": "suspected-brook",
   "metadata": {
    "execution": {
     "iopub.execute_input": "2021-07-06T07:24:10.542841Z",
     "iopub.status.busy": "2021-07-06T07:24:10.541838Z",
     "iopub.status.idle": "2021-07-06T07:24:10.759919Z",
     "shell.execute_reply": "2021-07-06T07:24:10.759372Z",
     "shell.execute_reply.started": "2021-07-06T05:37:12.757384Z"
    },
    "papermill": {
     "duration": 0.264192,
     "end_time": "2021-07-06T07:24:10.760138",
     "exception": false,
     "start_time": "2021-07-06T07:24:10.495946",
     "status": "completed"
    },
    "tags": []
   },
   "outputs": [
    {
     "data": {
      "text/plain": [
       "(49582, 2)"
      ]
     },
     "execution_count": 10,
     "metadata": {},
     "output_type": "execute_result"
    }
   ],
   "source": [
    "data.drop_duplicates(keep = \"first\", inplace = True)\n",
    "data.shape"
   ]
  },
  {
   "cell_type": "code",
   "execution_count": 11,
   "id": "compatible-modeling",
   "metadata": {
    "execution": {
     "iopub.execute_input": "2021-07-06T07:24:10.864533Z",
     "iopub.status.busy": "2021-07-06T07:24:10.862019Z",
     "iopub.status.idle": "2021-07-06T07:24:10.869624Z",
     "shell.execute_reply": "2021-07-06T07:24:10.869032Z",
     "shell.execute_reply.started": "2021-07-06T05:37:13.886976Z"
    },
    "papermill": {
     "duration": 0.067274,
     "end_time": "2021-07-06T07:24:10.869783",
     "exception": false,
     "start_time": "2021-07-06T07:24:10.802509",
     "status": "completed"
    },
    "tags": []
   },
   "outputs": [
    {
     "data": {
      "text/plain": [
       "review       0\n",
       "sentiment    0\n",
       "dtype: int64"
      ]
     },
     "execution_count": 11,
     "metadata": {},
     "output_type": "execute_result"
    }
   ],
   "source": [
    "data.isna().sum()"
   ]
  },
  {
   "cell_type": "code",
   "execution_count": 12,
   "id": "wicked-victim",
   "metadata": {
    "execution": {
     "iopub.execute_input": "2021-07-06T07:24:10.965326Z",
     "iopub.status.busy": "2021-07-06T07:24:10.960126Z",
     "iopub.status.idle": "2021-07-06T07:24:11.116385Z",
     "shell.execute_reply": "2021-07-06T07:24:11.115797Z",
     "shell.execute_reply.started": "2021-07-06T05:37:15.667927Z"
    },
    "papermill": {
     "duration": 0.204566,
     "end_time": "2021-07-06T07:24:11.116565",
     "exception": false,
     "start_time": "2021-07-06T07:24:10.911999",
     "status": "completed"
    },
    "tags": []
   },
   "outputs": [],
   "source": [
    "# Convert reviews to lowercase\n",
    "\n",
    "data.review = data.review.apply(lambda x: str(x).lower())"
   ]
  },
  {
   "cell_type": "code",
   "execution_count": 13,
   "id": "german-auditor",
   "metadata": {
    "execution": {
     "iopub.execute_input": "2021-07-06T07:24:11.206075Z",
     "iopub.status.busy": "2021-07-06T07:24:11.205381Z",
     "iopub.status.idle": "2021-07-06T07:24:11.208343Z",
     "shell.execute_reply": "2021-07-06T07:24:11.208801Z",
     "shell.execute_reply.started": "2021-07-06T05:37:17.740356Z"
    },
    "papermill": {
     "duration": 0.050288,
     "end_time": "2021-07-06T07:24:11.209011",
     "exception": false,
     "start_time": "2021-07-06T07:24:11.158723",
     "status": "completed"
    },
    "tags": []
   },
   "outputs": [],
   "source": [
    "data.reset_index(inplace = True)"
   ]
  },
  {
   "cell_type": "code",
   "execution_count": 14,
   "id": "prerequisite-executive",
   "metadata": {
    "execution": {
     "iopub.execute_input": "2021-07-06T07:24:11.297355Z",
     "iopub.status.busy": "2021-07-06T07:24:11.296616Z",
     "iopub.status.idle": "2021-07-06T07:24:11.305013Z",
     "shell.execute_reply": "2021-07-06T07:24:11.305500Z",
     "shell.execute_reply.started": "2021-07-06T05:37:18.782014Z"
    },
    "papermill": {
     "duration": 0.054275,
     "end_time": "2021-07-06T07:24:11.305709",
     "exception": false,
     "start_time": "2021-07-06T07:24:11.251434",
     "status": "completed"
    },
    "tags": []
   },
   "outputs": [],
   "source": [
    "data = data.drop(\"index\", axis = 1)"
   ]
  },
  {
   "cell_type": "code",
   "execution_count": 15,
   "id": "empirical-maintenance",
   "metadata": {
    "execution": {
     "iopub.execute_input": "2021-07-06T07:24:11.394151Z",
     "iopub.status.busy": "2021-07-06T07:24:11.393450Z",
     "iopub.status.idle": "2021-07-06T07:24:11.405211Z",
     "shell.execute_reply": "2021-07-06T07:24:11.404676Z",
     "shell.execute_reply.started": "2021-07-06T05:37:19.783103Z"
    },
    "papermill": {
     "duration": 0.05685,
     "end_time": "2021-07-06T07:24:11.405366",
     "exception": false,
     "start_time": "2021-07-06T07:24:11.348516",
     "status": "completed"
    },
    "tags": []
   },
   "outputs": [
    {
     "data": {
      "text/html": [
       "<div>\n",
       "<style scoped>\n",
       "    .dataframe tbody tr th:only-of-type {\n",
       "        vertical-align: middle;\n",
       "    }\n",
       "\n",
       "    .dataframe tbody tr th {\n",
       "        vertical-align: top;\n",
       "    }\n",
       "\n",
       "    .dataframe thead th {\n",
       "        text-align: right;\n",
       "    }\n",
       "</style>\n",
       "<table border=\"1\" class=\"dataframe\">\n",
       "  <thead>\n",
       "    <tr style=\"text-align: right;\">\n",
       "      <th></th>\n",
       "      <th>review</th>\n",
       "      <th>sentiment</th>\n",
       "    </tr>\n",
       "  </thead>\n",
       "  <tbody>\n",
       "    <tr>\n",
       "      <th>0</th>\n",
       "      <td>one of the other reviewers has mentioned that ...</td>\n",
       "      <td>positive</td>\n",
       "    </tr>\n",
       "    <tr>\n",
       "      <th>1</th>\n",
       "      <td>a wonderful little production. &lt;br /&gt;&lt;br /&gt;the...</td>\n",
       "      <td>positive</td>\n",
       "    </tr>\n",
       "    <tr>\n",
       "      <th>2</th>\n",
       "      <td>i thought this was a wonderful way to spend ti...</td>\n",
       "      <td>positive</td>\n",
       "    </tr>\n",
       "    <tr>\n",
       "      <th>3</th>\n",
       "      <td>basically there's a family where a little boy ...</td>\n",
       "      <td>negative</td>\n",
       "    </tr>\n",
       "    <tr>\n",
       "      <th>4</th>\n",
       "      <td>petter mattei's \"love in the time of money\" is...</td>\n",
       "      <td>positive</td>\n",
       "    </tr>\n",
       "    <tr>\n",
       "      <th>...</th>\n",
       "      <td>...</td>\n",
       "      <td>...</td>\n",
       "    </tr>\n",
       "    <tr>\n",
       "      <th>49577</th>\n",
       "      <td>i thought this movie did a down right good job...</td>\n",
       "      <td>positive</td>\n",
       "    </tr>\n",
       "    <tr>\n",
       "      <th>49578</th>\n",
       "      <td>bad plot, bad dialogue, bad acting, idiotic di...</td>\n",
       "      <td>negative</td>\n",
       "    </tr>\n",
       "    <tr>\n",
       "      <th>49579</th>\n",
       "      <td>i am a catholic taught in parochial elementary...</td>\n",
       "      <td>negative</td>\n",
       "    </tr>\n",
       "    <tr>\n",
       "      <th>49580</th>\n",
       "      <td>i'm going to have to disagree with the previou...</td>\n",
       "      <td>negative</td>\n",
       "    </tr>\n",
       "    <tr>\n",
       "      <th>49581</th>\n",
       "      <td>no one expects the star trek movies to be high...</td>\n",
       "      <td>negative</td>\n",
       "    </tr>\n",
       "  </tbody>\n",
       "</table>\n",
       "<p>49582 rows × 2 columns</p>\n",
       "</div>"
      ],
      "text/plain": [
       "                                                  review sentiment\n",
       "0      one of the other reviewers has mentioned that ...  positive\n",
       "1      a wonderful little production. <br /><br />the...  positive\n",
       "2      i thought this was a wonderful way to spend ti...  positive\n",
       "3      basically there's a family where a little boy ...  negative\n",
       "4      petter mattei's \"love in the time of money\" is...  positive\n",
       "...                                                  ...       ...\n",
       "49577  i thought this movie did a down right good job...  positive\n",
       "49578  bad plot, bad dialogue, bad acting, idiotic di...  negative\n",
       "49579  i am a catholic taught in parochial elementary...  negative\n",
       "49580  i'm going to have to disagree with the previou...  negative\n",
       "49581  no one expects the star trek movies to be high...  negative\n",
       "\n",
       "[49582 rows x 2 columns]"
      ]
     },
     "execution_count": 15,
     "metadata": {},
     "output_type": "execute_result"
    }
   ],
   "source": [
    "data"
   ]
  },
  {
   "cell_type": "code",
   "execution_count": 16,
   "id": "affiliated-board",
   "metadata": {
    "execution": {
     "iopub.execute_input": "2021-07-06T07:24:11.497570Z",
     "iopub.status.busy": "2021-07-06T07:24:11.496632Z",
     "iopub.status.idle": "2021-07-06T07:24:11.499880Z",
     "shell.execute_reply": "2021-07-06T07:24:11.499321Z",
     "shell.execute_reply.started": "2021-07-06T05:37:22.585687Z"
    },
    "papermill": {
     "duration": 0.052052,
     "end_time": "2021-07-06T07:24:11.500030",
     "exception": false,
     "start_time": "2021-07-06T07:24:11.447978",
     "status": "completed"
    },
    "tags": []
   },
   "outputs": [],
   "source": [
    "def strip_html(raw_text):\n",
    "  find_html = re.compile('<.*?>')\n",
    "  clean_text = re.sub(find_html, '', raw_text)\n",
    "  return clean_text"
   ]
  },
  {
   "cell_type": "code",
   "execution_count": 17,
   "id": "northern-techno",
   "metadata": {
    "execution": {
     "iopub.execute_input": "2021-07-06T07:24:11.593497Z",
     "iopub.status.busy": "2021-07-06T07:24:11.592814Z",
     "iopub.status.idle": "2021-07-06T07:24:11.913807Z",
     "shell.execute_reply": "2021-07-06T07:24:11.914328Z",
     "shell.execute_reply.started": "2021-07-06T05:37:23.007482Z"
    },
    "papermill": {
     "duration": 0.371467,
     "end_time": "2021-07-06T07:24:11.914551",
     "exception": false,
     "start_time": "2021-07-06T07:24:11.543084",
     "status": "completed"
    },
    "tags": []
   },
   "outputs": [],
   "source": [
    "data.review = data.review.apply(lambda x: strip_html(x))"
   ]
  },
  {
   "cell_type": "code",
   "execution_count": 18,
   "id": "humanitarian-hollywood",
   "metadata": {
    "execution": {
     "iopub.execute_input": "2021-07-06T07:24:12.005461Z",
     "iopub.status.busy": "2021-07-06T07:24:12.004715Z",
     "iopub.status.idle": "2021-07-06T07:24:12.017611Z",
     "shell.execute_reply": "2021-07-06T07:24:12.018160Z",
     "shell.execute_reply.started": "2021-07-06T05:37:24.067714Z"
    },
    "papermill": {
     "duration": 0.060783,
     "end_time": "2021-07-06T07:24:12.018366",
     "exception": false,
     "start_time": "2021-07-06T07:24:11.957583",
     "status": "completed"
    },
    "tags": []
   },
   "outputs": [
    {
     "data": {
      "text/html": [
       "<div>\n",
       "<style scoped>\n",
       "    .dataframe tbody tr th:only-of-type {\n",
       "        vertical-align: middle;\n",
       "    }\n",
       "\n",
       "    .dataframe tbody tr th {\n",
       "        vertical-align: top;\n",
       "    }\n",
       "\n",
       "    .dataframe thead th {\n",
       "        text-align: right;\n",
       "    }\n",
       "</style>\n",
       "<table border=\"1\" class=\"dataframe\">\n",
       "  <thead>\n",
       "    <tr style=\"text-align: right;\">\n",
       "      <th></th>\n",
       "      <th>review</th>\n",
       "      <th>sentiment</th>\n",
       "    </tr>\n",
       "  </thead>\n",
       "  <tbody>\n",
       "    <tr>\n",
       "      <th>0</th>\n",
       "      <td>one of the other reviewers has mentioned that ...</td>\n",
       "      <td>positive</td>\n",
       "    </tr>\n",
       "    <tr>\n",
       "      <th>1</th>\n",
       "      <td>a wonderful little production. the filming tec...</td>\n",
       "      <td>positive</td>\n",
       "    </tr>\n",
       "    <tr>\n",
       "      <th>2</th>\n",
       "      <td>i thought this was a wonderful way to spend ti...</td>\n",
       "      <td>positive</td>\n",
       "    </tr>\n",
       "    <tr>\n",
       "      <th>3</th>\n",
       "      <td>basically there's a family where a little boy ...</td>\n",
       "      <td>negative</td>\n",
       "    </tr>\n",
       "    <tr>\n",
       "      <th>4</th>\n",
       "      <td>petter mattei's \"love in the time of money\" is...</td>\n",
       "      <td>positive</td>\n",
       "    </tr>\n",
       "    <tr>\n",
       "      <th>...</th>\n",
       "      <td>...</td>\n",
       "      <td>...</td>\n",
       "    </tr>\n",
       "    <tr>\n",
       "      <th>49577</th>\n",
       "      <td>i thought this movie did a down right good job...</td>\n",
       "      <td>positive</td>\n",
       "    </tr>\n",
       "    <tr>\n",
       "      <th>49578</th>\n",
       "      <td>bad plot, bad dialogue, bad acting, idiotic di...</td>\n",
       "      <td>negative</td>\n",
       "    </tr>\n",
       "    <tr>\n",
       "      <th>49579</th>\n",
       "      <td>i am a catholic taught in parochial elementary...</td>\n",
       "      <td>negative</td>\n",
       "    </tr>\n",
       "    <tr>\n",
       "      <th>49580</th>\n",
       "      <td>i'm going to have to disagree with the previou...</td>\n",
       "      <td>negative</td>\n",
       "    </tr>\n",
       "    <tr>\n",
       "      <th>49581</th>\n",
       "      <td>no one expects the star trek movies to be high...</td>\n",
       "      <td>negative</td>\n",
       "    </tr>\n",
       "  </tbody>\n",
       "</table>\n",
       "<p>49582 rows × 2 columns</p>\n",
       "</div>"
      ],
      "text/plain": [
       "                                                  review sentiment\n",
       "0      one of the other reviewers has mentioned that ...  positive\n",
       "1      a wonderful little production. the filming tec...  positive\n",
       "2      i thought this was a wonderful way to spend ti...  positive\n",
       "3      basically there's a family where a little boy ...  negative\n",
       "4      petter mattei's \"love in the time of money\" is...  positive\n",
       "...                                                  ...       ...\n",
       "49577  i thought this movie did a down right good job...  positive\n",
       "49578  bad plot, bad dialogue, bad acting, idiotic di...  negative\n",
       "49579  i am a catholic taught in parochial elementary...  negative\n",
       "49580  i'm going to have to disagree with the previou...  negative\n",
       "49581  no one expects the star trek movies to be high...  negative\n",
       "\n",
       "[49582 rows x 2 columns]"
      ]
     },
     "execution_count": 18,
     "metadata": {},
     "output_type": "execute_result"
    }
   ],
   "source": [
    "data"
   ]
  },
  {
   "cell_type": "code",
   "execution_count": 19,
   "id": "future-treasury",
   "metadata": {
    "execution": {
     "iopub.execute_input": "2021-07-06T07:24:12.110525Z",
     "iopub.status.busy": "2021-07-06T07:24:12.109846Z",
     "iopub.status.idle": "2021-07-06T07:24:20.590678Z",
     "shell.execute_reply": "2021-07-06T07:24:20.590032Z",
     "shell.execute_reply.started": "2021-07-06T05:37:30.396024Z"
    },
    "papermill": {
     "duration": 8.527523,
     "end_time": "2021-07-06T07:24:20.590834",
     "exception": false,
     "start_time": "2021-07-06T07:24:12.063311",
     "status": "completed"
    },
    "tags": []
   },
   "outputs": [],
   "source": [
    "# Running WhiteSpace tokenizer \n",
    "wpTokenizer = WordPunctTokenizer()\n",
    "data[\"review_tokenized\"] = [wpTokenizer.tokenize(text) for text in data[\"review\"]]"
   ]
  },
  {
   "cell_type": "code",
   "execution_count": 20,
   "id": "smaller-corpus",
   "metadata": {
    "execution": {
     "iopub.execute_input": "2021-07-06T07:24:20.709835Z",
     "iopub.status.busy": "2021-07-06T07:24:20.709132Z",
     "iopub.status.idle": "2021-07-06T07:24:20.712112Z",
     "shell.execute_reply": "2021-07-06T07:24:20.712596Z",
     "shell.execute_reply.started": "2021-07-06T05:37:38.251215Z"
    },
    "papermill": {
     "duration": 0.078886,
     "end_time": "2021-07-06T07:24:20.712789",
     "exception": false,
     "start_time": "2021-07-06T07:24:20.633903",
     "status": "completed"
    },
    "tags": []
   },
   "outputs": [
    {
     "data": {
      "text/html": [
       "<div>\n",
       "<style scoped>\n",
       "    .dataframe tbody tr th:only-of-type {\n",
       "        vertical-align: middle;\n",
       "    }\n",
       "\n",
       "    .dataframe tbody tr th {\n",
       "        vertical-align: top;\n",
       "    }\n",
       "\n",
       "    .dataframe thead th {\n",
       "        text-align: right;\n",
       "    }\n",
       "</style>\n",
       "<table border=\"1\" class=\"dataframe\">\n",
       "  <thead>\n",
       "    <tr style=\"text-align: right;\">\n",
       "      <th></th>\n",
       "      <th>review</th>\n",
       "      <th>sentiment</th>\n",
       "      <th>review_tokenized</th>\n",
       "    </tr>\n",
       "  </thead>\n",
       "  <tbody>\n",
       "    <tr>\n",
       "      <th>0</th>\n",
       "      <td>one of the other reviewers has mentioned that ...</td>\n",
       "      <td>positive</td>\n",
       "      <td>[one, of, the, other, reviewers, has, mentione...</td>\n",
       "    </tr>\n",
       "    <tr>\n",
       "      <th>1</th>\n",
       "      <td>a wonderful little production. the filming tec...</td>\n",
       "      <td>positive</td>\n",
       "      <td>[a, wonderful, little, production, ., the, fil...</td>\n",
       "    </tr>\n",
       "    <tr>\n",
       "      <th>2</th>\n",
       "      <td>i thought this was a wonderful way to spend ti...</td>\n",
       "      <td>positive</td>\n",
       "      <td>[i, thought, this, was, a, wonderful, way, to,...</td>\n",
       "    </tr>\n",
       "    <tr>\n",
       "      <th>3</th>\n",
       "      <td>basically there's a family where a little boy ...</td>\n",
       "      <td>negative</td>\n",
       "      <td>[basically, there, ', s, a, family, where, a, ...</td>\n",
       "    </tr>\n",
       "    <tr>\n",
       "      <th>4</th>\n",
       "      <td>petter mattei's \"love in the time of money\" is...</td>\n",
       "      <td>positive</td>\n",
       "      <td>[petter, mattei, ', s, \", love, in, the, time,...</td>\n",
       "    </tr>\n",
       "    <tr>\n",
       "      <th>...</th>\n",
       "      <td>...</td>\n",
       "      <td>...</td>\n",
       "      <td>...</td>\n",
       "    </tr>\n",
       "    <tr>\n",
       "      <th>49577</th>\n",
       "      <td>i thought this movie did a down right good job...</td>\n",
       "      <td>positive</td>\n",
       "      <td>[i, thought, this, movie, did, a, down, right,...</td>\n",
       "    </tr>\n",
       "    <tr>\n",
       "      <th>49578</th>\n",
       "      <td>bad plot, bad dialogue, bad acting, idiotic di...</td>\n",
       "      <td>negative</td>\n",
       "      <td>[bad, plot, ,, bad, dialogue, ,, bad, acting, ...</td>\n",
       "    </tr>\n",
       "    <tr>\n",
       "      <th>49579</th>\n",
       "      <td>i am a catholic taught in parochial elementary...</td>\n",
       "      <td>negative</td>\n",
       "      <td>[i, am, a, catholic, taught, in, parochial, el...</td>\n",
       "    </tr>\n",
       "    <tr>\n",
       "      <th>49580</th>\n",
       "      <td>i'm going to have to disagree with the previou...</td>\n",
       "      <td>negative</td>\n",
       "      <td>[i, ', m, going, to, have, to, disagree, with,...</td>\n",
       "    </tr>\n",
       "    <tr>\n",
       "      <th>49581</th>\n",
       "      <td>no one expects the star trek movies to be high...</td>\n",
       "      <td>negative</td>\n",
       "      <td>[no, one, expects, the, star, trek, movies, to...</td>\n",
       "    </tr>\n",
       "  </tbody>\n",
       "</table>\n",
       "<p>49582 rows × 3 columns</p>\n",
       "</div>"
      ],
      "text/plain": [
       "                                                  review sentiment  \\\n",
       "0      one of the other reviewers has mentioned that ...  positive   \n",
       "1      a wonderful little production. the filming tec...  positive   \n",
       "2      i thought this was a wonderful way to spend ti...  positive   \n",
       "3      basically there's a family where a little boy ...  negative   \n",
       "4      petter mattei's \"love in the time of money\" is...  positive   \n",
       "...                                                  ...       ...   \n",
       "49577  i thought this movie did a down right good job...  positive   \n",
       "49578  bad plot, bad dialogue, bad acting, idiotic di...  negative   \n",
       "49579  i am a catholic taught in parochial elementary...  negative   \n",
       "49580  i'm going to have to disagree with the previou...  negative   \n",
       "49581  no one expects the star trek movies to be high...  negative   \n",
       "\n",
       "                                        review_tokenized  \n",
       "0      [one, of, the, other, reviewers, has, mentione...  \n",
       "1      [a, wonderful, little, production, ., the, fil...  \n",
       "2      [i, thought, this, was, a, wonderful, way, to,...  \n",
       "3      [basically, there, ', s, a, family, where, a, ...  \n",
       "4      [petter, mattei, ', s, \", love, in, the, time,...  \n",
       "...                                                  ...  \n",
       "49577  [i, thought, this, movie, did, a, down, right,...  \n",
       "49578  [bad, plot, ,, bad, dialogue, ,, bad, acting, ...  \n",
       "49579  [i, am, a, catholic, taught, in, parochial, el...  \n",
       "49580  [i, ', m, going, to, have, to, disagree, with,...  \n",
       "49581  [no, one, expects, the, star, trek, movies, to...  \n",
       "\n",
       "[49582 rows x 3 columns]"
      ]
     },
     "execution_count": 20,
     "metadata": {},
     "output_type": "execute_result"
    }
   ],
   "source": [
    "data"
   ]
  },
  {
   "cell_type": "code",
   "execution_count": 21,
   "id": "interstate-facial",
   "metadata": {
    "execution": {
     "iopub.execute_input": "2021-07-06T07:24:20.805001Z",
     "iopub.status.busy": "2021-07-06T07:24:20.804336Z",
     "iopub.status.idle": "2021-07-06T07:24:24.094465Z",
     "shell.execute_reply": "2021-07-06T07:24:24.093645Z",
     "shell.execute_reply.started": "2021-07-06T05:37:41.705587Z"
    },
    "papermill": {
     "duration": 3.337461,
     "end_time": "2021-07-06T07:24:24.094627",
     "exception": false,
     "start_time": "2021-07-06T07:24:20.757166",
     "status": "completed"
    },
    "tags": []
   },
   "outputs": [],
   "source": [
    "# Stopwords removal & WordNet lemmatization \n",
    "\n",
    "# Define POS tags \n",
    "tag_map = defaultdict(lambda : wordnet.NOUN)\n",
    "tag_map['J'] = wordnet.ADJ\n",
    "tag_map['V'] = wordnet.VERB\n",
    "tag_map['R'] = wordnet.ADV"
   ]
  },
  {
   "cell_type": "code",
   "execution_count": 22,
   "id": "outside-pleasure",
   "metadata": {
    "collapsed": true,
    "execution": {
     "iopub.execute_input": "2021-07-06T07:24:24.191961Z",
     "iopub.status.busy": "2021-07-06T07:24:24.191084Z",
     "iopub.status.idle": "2021-07-06T08:08:11.692789Z",
     "shell.execute_reply": "2021-07-06T08:08:11.692043Z",
     "shell.execute_reply.started": "2021-07-06T05:38:20.209726Z"
    },
    "jupyter": {
     "outputs_hidden": true
    },
    "papermill": {
     "duration": 2627.553626,
     "end_time": "2021-07-06T08:08:11.693006",
     "exception": false,
     "start_time": "2021-07-06T07:24:24.139380",
     "status": "completed"
    },
    "tags": []
   },
   "outputs": [
    {
     "name": "stdout",
     "output_type": "stream",
     "text": [
      "0\n",
      "100\n",
      "200\n",
      "300\n",
      "400\n",
      "500\n",
      "600\n",
      "700\n",
      "800\n",
      "900\n",
      "1000\n",
      "1100\n",
      "1200\n",
      "1300\n",
      "1400\n",
      "1500\n",
      "1600\n",
      "1700\n",
      "1800\n",
      "1900\n",
      "2000\n",
      "2100\n",
      "2200\n",
      "2300\n",
      "2400\n",
      "2500\n",
      "2600\n",
      "2700\n",
      "2800\n",
      "2900\n",
      "3000\n",
      "3100\n",
      "3200\n",
      "3300\n",
      "3400\n",
      "3500\n",
      "3600\n",
      "3700\n",
      "3800\n",
      "3900\n",
      "4000\n",
      "4100\n",
      "4200\n",
      "4300\n",
      "4400\n",
      "4500\n",
      "4600\n",
      "4700\n",
      "4800\n",
      "4900\n",
      "5000\n",
      "5100\n",
      "5200\n",
      "5300\n",
      "5400\n",
      "5500\n",
      "5600\n",
      "5700\n",
      "5800\n",
      "5900\n",
      "6000\n",
      "6100\n",
      "6200\n",
      "6300\n",
      "6400\n",
      "6500\n",
      "6600\n",
      "6700\n",
      "6800\n",
      "6900\n",
      "7000\n",
      "7100\n",
      "7200\n",
      "7300\n",
      "7400\n",
      "7500\n",
      "7600\n",
      "7700\n",
      "7800\n",
      "7900\n",
      "8000\n",
      "8100\n",
      "8200\n",
      "8300\n",
      "8400\n",
      "8500\n",
      "8600\n",
      "8700\n",
      "8800\n",
      "8900\n",
      "9000\n",
      "9100\n",
      "9200\n",
      "9300\n",
      "9400\n",
      "9500\n",
      "9600\n",
      "9700\n",
      "9800\n",
      "9900\n",
      "10000\n",
      "10100\n",
      "10200\n",
      "10300\n",
      "10400\n",
      "10500\n",
      "10600\n",
      "10700\n",
      "10800\n",
      "10900\n",
      "11000\n",
      "11100\n",
      "11200\n",
      "11300\n",
      "11400\n",
      "11500\n",
      "11600\n",
      "11700\n",
      "11800\n",
      "11900\n",
      "12000\n",
      "12100\n",
      "12200\n",
      "12300\n",
      "12400\n",
      "12500\n",
      "12600\n",
      "12700\n",
      "12800\n",
      "12900\n",
      "13000\n",
      "13100\n",
      "13200\n",
      "13300\n",
      "13400\n",
      "13500\n",
      "13600\n",
      "13700\n",
      "13800\n",
      "13900\n",
      "14000\n",
      "14100\n",
      "14200\n",
      "14300\n",
      "14400\n",
      "14500\n",
      "14600\n",
      "14700\n",
      "14800\n",
      "14900\n",
      "15000\n",
      "15100\n",
      "15200\n",
      "15300\n",
      "15400\n",
      "15500\n",
      "15600\n",
      "15700\n",
      "15800\n",
      "15900\n",
      "16000\n",
      "16100\n",
      "16200\n",
      "16300\n",
      "16400\n",
      "16500\n",
      "16600\n",
      "16700\n",
      "16800\n",
      "16900\n",
      "17000\n",
      "17100\n",
      "17200\n",
      "17300\n",
      "17400\n",
      "17500\n",
      "17600\n",
      "17700\n",
      "17800\n",
      "17900\n",
      "18000\n",
      "18100\n",
      "18200\n",
      "18300\n",
      "18400\n",
      "18500\n",
      "18600\n",
      "18700\n",
      "18800\n",
      "18900\n",
      "19000\n",
      "19100\n",
      "19200\n",
      "19300\n",
      "19400\n",
      "19500\n",
      "19600\n",
      "19700\n",
      "19800\n",
      "19900\n",
      "20000\n",
      "20100\n",
      "20200\n",
      "20300\n",
      "20400\n",
      "20500\n",
      "20600\n",
      "20700\n",
      "20800\n",
      "20900\n",
      "21000\n",
      "21100\n",
      "21200\n",
      "21300\n",
      "21400\n",
      "21500\n",
      "21600\n",
      "21700\n",
      "21800\n",
      "21900\n",
      "22000\n",
      "22100\n",
      "22200\n",
      "22300\n",
      "22400\n",
      "22500\n",
      "22600\n",
      "22700\n",
      "22800\n",
      "22900\n",
      "23000\n",
      "23100\n",
      "23200\n",
      "23300\n",
      "23400\n",
      "23500\n",
      "23600\n",
      "23700\n",
      "23800\n",
      "23900\n",
      "24000\n",
      "24100\n",
      "24200\n",
      "24300\n",
      "24400\n",
      "24500\n",
      "24600\n",
      "24700\n",
      "24800\n",
      "24900\n",
      "25000\n",
      "25100\n",
      "25200\n",
      "25300\n",
      "25400\n",
      "25500\n",
      "25600\n",
      "25700\n",
      "25800\n",
      "25900\n",
      "26000\n",
      "26100\n",
      "26200\n",
      "26300\n",
      "26400\n",
      "26500\n",
      "26600\n",
      "26700\n",
      "26800\n",
      "26900\n",
      "27000\n",
      "27100\n",
      "27200\n",
      "27300\n",
      "27400\n",
      "27500\n",
      "27600\n",
      "27700\n",
      "27800\n",
      "27900\n",
      "28000\n",
      "28100\n",
      "28200\n",
      "28300\n",
      "28400\n",
      "28500\n",
      "28600\n",
      "28700\n",
      "28800\n",
      "28900\n",
      "29000\n",
      "29100\n",
      "29200\n",
      "29300\n",
      "29400\n",
      "29500\n",
      "29600\n",
      "29700\n",
      "29800\n",
      "29900\n",
      "30000\n",
      "30100\n",
      "30200\n",
      "30300\n",
      "30400\n",
      "30500\n",
      "30600\n",
      "30700\n",
      "30800\n",
      "30900\n",
      "31000\n",
      "31100\n",
      "31200\n",
      "31300\n",
      "31400\n",
      "31500\n",
      "31600\n",
      "31700\n",
      "31800\n",
      "31900\n",
      "32000\n",
      "32100\n",
      "32200\n",
      "32300\n",
      "32400\n",
      "32500\n",
      "32600\n",
      "32700\n",
      "32800\n",
      "32900\n",
      "33000\n",
      "33100\n",
      "33200\n",
      "33300\n",
      "33400\n",
      "33500\n",
      "33600\n",
      "33700\n",
      "33800\n",
      "33900\n",
      "34000\n",
      "34100\n",
      "34200\n",
      "34300\n",
      "34400\n",
      "34500\n",
      "34600\n",
      "34700\n",
      "34800\n",
      "34900\n",
      "35000\n",
      "35100\n",
      "35200\n",
      "35300\n",
      "35400\n",
      "35500\n",
      "35600\n",
      "35700\n",
      "35800\n",
      "35900\n",
      "36000\n",
      "36100\n",
      "36200\n",
      "36300\n",
      "36400\n",
      "36500\n",
      "36600\n",
      "36700\n",
      "36800\n",
      "36900\n",
      "37000\n",
      "37100\n",
      "37200\n",
      "37300\n",
      "37400\n",
      "37500\n",
      "37600\n",
      "37700\n",
      "37800\n",
      "37900\n",
      "38000\n",
      "38100\n",
      "38200\n",
      "38300\n",
      "38400\n",
      "38500\n",
      "38600\n",
      "38700\n",
      "38800\n",
      "38900\n",
      "39000\n",
      "39100\n",
      "39200\n",
      "39300\n",
      "39400\n",
      "39500\n",
      "39600\n",
      "39700\n",
      "39800\n",
      "39900\n",
      "40000\n",
      "40100\n",
      "40200\n",
      "40300\n",
      "40400\n",
      "40500\n",
      "40600\n",
      "40700\n",
      "40800\n",
      "40900\n",
      "41000\n",
      "41100\n",
      "41200\n",
      "41300\n",
      "41400\n",
      "41500\n",
      "41600\n",
      "41700\n",
      "41800\n",
      "41900\n",
      "42000\n",
      "42100\n",
      "42200\n",
      "42300\n",
      "42400\n",
      "42500\n",
      "42600\n",
      "42700\n",
      "42800\n",
      "42900\n",
      "43000\n",
      "43100\n",
      "43200\n",
      "43300\n",
      "43400\n",
      "43500\n",
      "43600\n",
      "43700\n",
      "43800\n",
      "43900\n",
      "44000\n",
      "44100\n",
      "44200\n",
      "44300\n",
      "44400\n",
      "44500\n",
      "44600\n",
      "44700\n",
      "44800\n",
      "44900\n",
      "45000\n",
      "45100\n",
      "45200\n",
      "45300\n",
      "45400\n",
      "45500\n",
      "45600\n",
      "45700\n",
      "45800\n",
      "45900\n",
      "46000\n",
      "46100\n",
      "46200\n",
      "46300\n",
      "46400\n",
      "46500\n",
      "46600\n",
      "46700\n",
      "46800\n",
      "46900\n",
      "47000\n",
      "47100\n",
      "47200\n",
      "47300\n",
      "47400\n",
      "47500\n",
      "47600\n",
      "47700\n",
      "47800\n",
      "47900\n",
      "48000\n",
      "48100\n",
      "48200\n",
      "48300\n",
      "48400\n",
      "48500\n",
      "48600\n",
      "48700\n",
      "48800\n",
      "48900\n",
      "49000\n",
      "49100\n",
      "49200\n",
      "49300\n",
      "49400\n",
      "49500\n"
     ]
    }
   ],
   "source": [
    "for index, text in enumerate(data.review_tokenized):\n",
    "    if index % 100 == 0:\n",
    "        print(index)\n",
    "#     print(\"-\" * 50)\n",
    "    word_list = []\n",
    "    wordnet_lemmatizer = WordNetLemmatizer()\n",
    "    for word, tag in pos_tag(text):\n",
    "        if word not in stopwords.words(\"english\") and word.isalpha():\n",
    "            word_processed = wordnet_lemmatizer.lemmatize(word, tag_map[tag[0]])\n",
    "            word_list.append(word_processed)\n",
    "    data.loc[index, \"review_tokenized_cleaned\"] = str(word_list)"
   ]
  },
  {
   "cell_type": "code",
   "execution_count": 23,
   "id": "arctic-copper",
   "metadata": {
    "execution": {
     "iopub.execute_input": "2021-07-06T08:08:12.108272Z",
     "iopub.status.busy": "2021-07-06T08:08:12.103042Z",
     "iopub.status.idle": "2021-07-06T08:08:12.112811Z",
     "shell.execute_reply": "2021-07-06T08:08:12.112314Z",
     "shell.execute_reply.started": "2021-07-06T06:23:56.597612Z"
    },
    "papermill": {
     "duration": 0.229691,
     "end_time": "2021-07-06T08:08:12.112955",
     "exception": false,
     "start_time": "2021-07-06T08:08:11.883264",
     "status": "completed"
    },
    "tags": []
   },
   "outputs": [
    {
     "data": {
      "text/html": [
       "<div>\n",
       "<style scoped>\n",
       "    .dataframe tbody tr th:only-of-type {\n",
       "        vertical-align: middle;\n",
       "    }\n",
       "\n",
       "    .dataframe tbody tr th {\n",
       "        vertical-align: top;\n",
       "    }\n",
       "\n",
       "    .dataframe thead th {\n",
       "        text-align: right;\n",
       "    }\n",
       "</style>\n",
       "<table border=\"1\" class=\"dataframe\">\n",
       "  <thead>\n",
       "    <tr style=\"text-align: right;\">\n",
       "      <th></th>\n",
       "      <th>review</th>\n",
       "      <th>sentiment</th>\n",
       "      <th>review_tokenized</th>\n",
       "      <th>review_tokenized_cleaned</th>\n",
       "    </tr>\n",
       "  </thead>\n",
       "  <tbody>\n",
       "    <tr>\n",
       "      <th>0</th>\n",
       "      <td>one of the other reviewers has mentioned that ...</td>\n",
       "      <td>positive</td>\n",
       "      <td>[one, of, the, other, reviewers, has, mentione...</td>\n",
       "      <td>['one', 'reviewer', 'mention', 'watch', 'oz', ...</td>\n",
       "    </tr>\n",
       "    <tr>\n",
       "      <th>1</th>\n",
       "      <td>a wonderful little production. the filming tec...</td>\n",
       "      <td>positive</td>\n",
       "      <td>[a, wonderful, little, production, ., the, fil...</td>\n",
       "      <td>['wonderful', 'little', 'production', 'filming...</td>\n",
       "    </tr>\n",
       "    <tr>\n",
       "      <th>2</th>\n",
       "      <td>i thought this was a wonderful way to spend ti...</td>\n",
       "      <td>positive</td>\n",
       "      <td>[i, thought, this, was, a, wonderful, way, to,...</td>\n",
       "      <td>['think', 'wonderful', 'way', 'spend', 'time',...</td>\n",
       "    </tr>\n",
       "    <tr>\n",
       "      <th>3</th>\n",
       "      <td>basically there's a family where a little boy ...</td>\n",
       "      <td>negative</td>\n",
       "      <td>[basically, there, ', s, a, family, where, a, ...</td>\n",
       "      <td>['basically', 'family', 'little', 'boy', 'jake...</td>\n",
       "    </tr>\n",
       "    <tr>\n",
       "      <th>4</th>\n",
       "      <td>petter mattei's \"love in the time of money\" is...</td>\n",
       "      <td>positive</td>\n",
       "      <td>[petter, mattei, ', s, \", love, in, the, time,...</td>\n",
       "      <td>['petter', 'mattei', 'love', 'time', 'money', ...</td>\n",
       "    </tr>\n",
       "    <tr>\n",
       "      <th>...</th>\n",
       "      <td>...</td>\n",
       "      <td>...</td>\n",
       "      <td>...</td>\n",
       "      <td>...</td>\n",
       "    </tr>\n",
       "    <tr>\n",
       "      <th>49577</th>\n",
       "      <td>i thought this movie did a down right good job...</td>\n",
       "      <td>positive</td>\n",
       "      <td>[i, thought, this, movie, did, a, down, right,...</td>\n",
       "      <td>['think', 'movie', 'right', 'good', 'job', 'cr...</td>\n",
       "    </tr>\n",
       "    <tr>\n",
       "      <th>49578</th>\n",
       "      <td>bad plot, bad dialogue, bad acting, idiotic di...</td>\n",
       "      <td>negative</td>\n",
       "      <td>[bad, plot, ,, bad, dialogue, ,, bad, acting, ...</td>\n",
       "      <td>['bad', 'plot', 'bad', 'dialogue', 'bad', 'act...</td>\n",
       "    </tr>\n",
       "    <tr>\n",
       "      <th>49579</th>\n",
       "      <td>i am a catholic taught in parochial elementary...</td>\n",
       "      <td>negative</td>\n",
       "      <td>[i, am, a, catholic, taught, in, parochial, el...</td>\n",
       "      <td>['catholic', 'taught', 'parochial', 'elementar...</td>\n",
       "    </tr>\n",
       "    <tr>\n",
       "      <th>49580</th>\n",
       "      <td>i'm going to have to disagree with the previou...</td>\n",
       "      <td>negative</td>\n",
       "      <td>[i, ', m, going, to, have, to, disagree, with,...</td>\n",
       "      <td>['go', 'disagree', 'previous', 'comment', 'sid...</td>\n",
       "    </tr>\n",
       "    <tr>\n",
       "      <th>49581</th>\n",
       "      <td>no one expects the star trek movies to be high...</td>\n",
       "      <td>negative</td>\n",
       "      <td>[no, one, expects, the, star, trek, movies, to...</td>\n",
       "      <td>['one', 'expect', 'star', 'trek', 'movie', 'hi...</td>\n",
       "    </tr>\n",
       "  </tbody>\n",
       "</table>\n",
       "<p>49582 rows × 4 columns</p>\n",
       "</div>"
      ],
      "text/plain": [
       "                                                  review sentiment  \\\n",
       "0      one of the other reviewers has mentioned that ...  positive   \n",
       "1      a wonderful little production. the filming tec...  positive   \n",
       "2      i thought this was a wonderful way to spend ti...  positive   \n",
       "3      basically there's a family where a little boy ...  negative   \n",
       "4      petter mattei's \"love in the time of money\" is...  positive   \n",
       "...                                                  ...       ...   \n",
       "49577  i thought this movie did a down right good job...  positive   \n",
       "49578  bad plot, bad dialogue, bad acting, idiotic di...  negative   \n",
       "49579  i am a catholic taught in parochial elementary...  negative   \n",
       "49580  i'm going to have to disagree with the previou...  negative   \n",
       "49581  no one expects the star trek movies to be high...  negative   \n",
       "\n",
       "                                        review_tokenized  \\\n",
       "0      [one, of, the, other, reviewers, has, mentione...   \n",
       "1      [a, wonderful, little, production, ., the, fil...   \n",
       "2      [i, thought, this, was, a, wonderful, way, to,...   \n",
       "3      [basically, there, ', s, a, family, where, a, ...   \n",
       "4      [petter, mattei, ', s, \", love, in, the, time,...   \n",
       "...                                                  ...   \n",
       "49577  [i, thought, this, movie, did, a, down, right,...   \n",
       "49578  [bad, plot, ,, bad, dialogue, ,, bad, acting, ...   \n",
       "49579  [i, am, a, catholic, taught, in, parochial, el...   \n",
       "49580  [i, ', m, going, to, have, to, disagree, with,...   \n",
       "49581  [no, one, expects, the, star, trek, movies, to...   \n",
       "\n",
       "                                review_tokenized_cleaned  \n",
       "0      ['one', 'reviewer', 'mention', 'watch', 'oz', ...  \n",
       "1      ['wonderful', 'little', 'production', 'filming...  \n",
       "2      ['think', 'wonderful', 'way', 'spend', 'time',...  \n",
       "3      ['basically', 'family', 'little', 'boy', 'jake...  \n",
       "4      ['petter', 'mattei', 'love', 'time', 'money', ...  \n",
       "...                                                  ...  \n",
       "49577  ['think', 'movie', 'right', 'good', 'job', 'cr...  \n",
       "49578  ['bad', 'plot', 'bad', 'dialogue', 'bad', 'act...  \n",
       "49579  ['catholic', 'taught', 'parochial', 'elementar...  \n",
       "49580  ['go', 'disagree', 'previous', 'comment', 'sid...  \n",
       "49581  ['one', 'expect', 'star', 'trek', 'movie', 'hi...  \n",
       "\n",
       "[49582 rows x 4 columns]"
      ]
     },
     "execution_count": 23,
     "metadata": {},
     "output_type": "execute_result"
    }
   ],
   "source": [
    "data"
   ]
  },
  {
   "cell_type": "code",
   "execution_count": 24,
   "id": "impaired-powell",
   "metadata": {
    "execution": {
     "iopub.execute_input": "2021-07-06T08:08:12.521052Z",
     "iopub.status.busy": "2021-07-06T08:08:12.520007Z",
     "iopub.status.idle": "2021-07-06T08:08:12.524218Z",
     "shell.execute_reply": "2021-07-06T08:08:12.524665Z",
     "shell.execute_reply.started": "2021-07-06T06:26:47.288512Z"
    },
    "papermill": {
     "duration": 0.22021,
     "end_time": "2021-07-06T08:08:12.524840",
     "exception": false,
     "start_time": "2021-07-06T08:08:12.304630",
     "status": "completed"
    },
    "tags": []
   },
   "outputs": [
    {
     "data": {
      "text/plain": [
       "0"
      ]
     },
     "execution_count": 24,
     "metadata": {},
     "output_type": "execute_result"
    }
   ],
   "source": [
    "data.review_tokenized_cleaned.isna().sum()"
   ]
  },
  {
   "cell_type": "code",
   "execution_count": 25,
   "id": "commercial-plaintiff",
   "metadata": {
    "execution": {
     "iopub.execute_input": "2021-07-06T08:08:12.911857Z",
     "iopub.status.busy": "2021-07-06T08:08:12.911225Z",
     "iopub.status.idle": "2021-07-06T08:08:12.928379Z",
     "shell.execute_reply": "2021-07-06T08:08:12.928854Z",
     "shell.execute_reply.started": "2021-07-06T06:28:23.219774Z"
    },
    "papermill": {
     "duration": 0.212933,
     "end_time": "2021-07-06T08:08:12.929069",
     "exception": false,
     "start_time": "2021-07-06T08:08:12.716136",
     "status": "completed"
    },
    "tags": []
   },
   "outputs": [],
   "source": [
    "train_X, test_X, train_y, test_y = model_selection.train_test_split(data.review_tokenized_cleaned, data.sentiment, test_size = 0.3, random_state =1)"
   ]
  },
  {
   "cell_type": "code",
   "execution_count": 26,
   "id": "italic-pillow",
   "metadata": {
    "execution": {
     "iopub.execute_input": "2021-07-06T08:08:13.318837Z",
     "iopub.status.busy": "2021-07-06T08:08:13.318183Z",
     "iopub.status.idle": "2021-07-06T08:08:13.323741Z",
     "shell.execute_reply": "2021-07-06T08:08:13.324250Z",
     "shell.execute_reply.started": "2021-07-06T06:28:43.145651Z"
    },
    "papermill": {
     "duration": 0.199784,
     "end_time": "2021-07-06T08:08:13.324469",
     "exception": false,
     "start_time": "2021-07-06T08:08:13.124685",
     "status": "completed"
    },
    "tags": []
   },
   "outputs": [
    {
     "name": "stdout",
     "output_type": "stream",
     "text": [
      "(34707,)\n",
      "(14875,)\n",
      "(34707,)\n",
      "(14875,)\n"
     ]
    }
   ],
   "source": [
    "print(train_X.shape)\n",
    "print(test_X.shape)\n",
    "print(train_y.shape)\n",
    "print(test_y.shape)"
   ]
  },
  {
   "cell_type": "code",
   "execution_count": 27,
   "id": "surprising-british",
   "metadata": {
    "execution": {
     "iopub.execute_input": "2021-07-06T08:08:13.720329Z",
     "iopub.status.busy": "2021-07-06T08:08:13.719536Z",
     "iopub.status.idle": "2021-07-06T08:08:13.722243Z",
     "shell.execute_reply": "2021-07-06T08:08:13.722719Z",
     "shell.execute_reply.started": "2021-07-06T06:29:08.791567Z"
    },
    "papermill": {
     "duration": 0.203774,
     "end_time": "2021-07-06T08:08:13.722915",
     "exception": false,
     "start_time": "2021-07-06T08:08:13.519141",
     "status": "completed"
    },
    "tags": []
   },
   "outputs": [
    {
     "data": {
      "text/plain": [
       "negative    7461\n",
       "positive    7414\n",
       "Name: sentiment, dtype: int64"
      ]
     },
     "execution_count": 27,
     "metadata": {},
     "output_type": "execute_result"
    }
   ],
   "source": [
    "test_y.value_counts()"
   ]
  },
  {
   "cell_type": "code",
   "execution_count": 28,
   "id": "lesbian-indianapolis",
   "metadata": {
    "execution": {
     "iopub.execute_input": "2021-07-06T08:08:14.110697Z",
     "iopub.status.busy": "2021-07-06T08:08:14.110041Z",
     "iopub.status.idle": "2021-07-06T08:08:14.123381Z",
     "shell.execute_reply": "2021-07-06T08:08:14.123949Z",
     "shell.execute_reply.started": "2021-07-06T06:29:16.006978Z"
    },
    "papermill": {
     "duration": 0.210997,
     "end_time": "2021-07-06T08:08:14.124189",
     "exception": false,
     "start_time": "2021-07-06T08:08:13.913192",
     "status": "completed"
    },
    "tags": []
   },
   "outputs": [
    {
     "data": {
      "text/plain": [
       "positive    17470\n",
       "negative    17237\n",
       "Name: sentiment, dtype: int64"
      ]
     },
     "execution_count": 28,
     "metadata": {},
     "output_type": "execute_result"
    }
   ],
   "source": [
    "train_y.value_counts()"
   ]
  },
  {
   "cell_type": "code",
   "execution_count": 29,
   "id": "perceived-mexico",
   "metadata": {
    "execution": {
     "iopub.execute_input": "2021-07-06T08:08:14.533748Z",
     "iopub.status.busy": "2021-07-06T08:08:14.533030Z",
     "iopub.status.idle": "2021-07-06T08:08:14.535764Z",
     "shell.execute_reply": "2021-07-06T08:08:14.535250Z",
     "shell.execute_reply.started": "2021-07-06T06:29:52.288884Z"
    },
    "papermill": {
     "duration": 0.218689,
     "end_time": "2021-07-06T08:08:14.535927",
     "exception": false,
     "start_time": "2021-07-06T08:08:14.317238",
     "status": "completed"
    },
    "tags": []
   },
   "outputs": [],
   "source": [
    "label_enc = LabelEncoder()\n",
    "train_y = label_enc.fit_transform(train_y)\n",
    "test_y = label_enc.transform(test_y)"
   ]
  },
  {
   "cell_type": "code",
   "execution_count": 30,
   "id": "academic-publicity",
   "metadata": {
    "execution": {
     "iopub.execute_input": "2021-07-06T08:08:14.924862Z",
     "iopub.status.busy": "2021-07-06T08:08:14.924228Z",
     "iopub.status.idle": "2021-07-06T08:08:14.930116Z",
     "shell.execute_reply": "2021-07-06T08:08:14.929610Z",
     "shell.execute_reply.started": "2021-07-06T06:30:48.636128Z"
    },
    "papermill": {
     "duration": 0.200448,
     "end_time": "2021-07-06T08:08:14.930277",
     "exception": false,
     "start_time": "2021-07-06T08:08:14.729829",
     "status": "completed"
    },
    "tags": []
   },
   "outputs": [
    {
     "name": "stdout",
     "output_type": "stream",
     "text": [
      "(array([0, 1]), array([7461, 7414]))\n",
      "(array([0, 1]), array([17237, 17470]))\n"
     ]
    }
   ],
   "source": [
    "print(np.unique(test_y, return_counts = True))\n",
    "print(np.unique(train_y, return_counts = True))"
   ]
  },
  {
   "cell_type": "code",
   "execution_count": 31,
   "id": "structured-liberal",
   "metadata": {
    "execution": {
     "iopub.execute_input": "2021-07-06T08:08:15.330982Z",
     "iopub.status.busy": "2021-07-06T08:08:15.330316Z",
     "iopub.status.idle": "2021-07-06T08:08:24.295217Z",
     "shell.execute_reply": "2021-07-06T08:08:24.295695Z",
     "shell.execute_reply.started": "2021-07-06T06:31:36.893262Z"
    },
    "papermill": {
     "duration": 9.172129,
     "end_time": "2021-07-06T08:08:24.295909",
     "exception": false,
     "start_time": "2021-07-06T08:08:15.123780",
     "status": "completed"
    },
    "tags": []
   },
   "outputs": [
    {
     "data": {
      "text/plain": [
       "TfidfVectorizer(max_features=5000)"
      ]
     },
     "execution_count": 31,
     "metadata": {},
     "output_type": "execute_result"
    }
   ],
   "source": [
    "tfidf_vect = TfidfVectorizer(max_features = 5000)\n",
    "tfidf_vect.fit(data.review_tokenized_cleaned)"
   ]
  },
  {
   "cell_type": "code",
   "execution_count": 32,
   "id": "eleven-nation",
   "metadata": {
    "execution": {
     "iopub.execute_input": "2021-07-06T08:08:24.714292Z",
     "iopub.status.busy": "2021-07-06T08:08:24.709462Z",
     "iopub.status.idle": "2021-07-06T08:08:33.420560Z",
     "shell.execute_reply": "2021-07-06T08:08:33.419938Z",
     "shell.execute_reply.started": "2021-07-06T06:32:16.795470Z"
    },
    "papermill": {
     "duration": 8.92881,
     "end_time": "2021-07-06T08:08:33.420727",
     "exception": false,
     "start_time": "2021-07-06T08:08:24.491917",
     "status": "completed"
    },
    "tags": []
   },
   "outputs": [],
   "source": [
    "train_X_tfidf = tfidf_vect.transform(train_X)\n",
    "test_X_tfidf = tfidf_vect.transform(test_X)"
   ]
  },
  {
   "cell_type": "markdown",
   "id": "residential-junction",
   "metadata": {
    "papermill": {
     "duration": 0.190856,
     "end_time": "2021-07-06T08:08:33.805264",
     "exception": false,
     "start_time": "2021-07-06T08:08:33.614408",
     "status": "completed"
    },
    "tags": []
   },
   "source": [
    "### Modelling Multinomial Naives Bayes"
   ]
  },
  {
   "cell_type": "code",
   "execution_count": 33,
   "id": "active-emission",
   "metadata": {
    "execution": {
     "iopub.execute_input": "2021-07-06T08:08:34.200445Z",
     "iopub.status.busy": "2021-07-06T08:08:34.199397Z",
     "iopub.status.idle": "2021-07-06T08:08:37.098826Z",
     "shell.execute_reply": "2021-07-06T08:08:37.098197Z",
     "shell.execute_reply.started": "2021-07-06T07:05:04.280429Z"
    },
    "papermill": {
     "duration": 3.098823,
     "end_time": "2021-07-06T08:08:37.098990",
     "exception": false,
     "start_time": "2021-07-06T08:08:34.000167",
     "status": "completed"
    },
    "tags": []
   },
   "outputs": [],
   "source": [
    "train_X_tfidf_dense = train_X_tfidf.todense()\n",
    "test_X_tfidf_dense = test_X_tfidf.todense()"
   ]
  },
  {
   "cell_type": "code",
   "execution_count": 34,
   "id": "postal-karma",
   "metadata": {
    "execution": {
     "iopub.execute_input": "2021-07-06T08:08:37.489364Z",
     "iopub.status.busy": "2021-07-06T08:08:37.488097Z",
     "iopub.status.idle": "2021-07-06T08:08:41.639233Z",
     "shell.execute_reply": "2021-07-06T08:08:41.638620Z",
     "shell.execute_reply.started": "2021-07-06T07:04:42.598258Z"
    },
    "papermill": {
     "duration": 4.348129,
     "end_time": "2021-07-06T08:08:41.639422",
     "exception": false,
     "start_time": "2021-07-06T08:08:37.291293",
     "status": "completed"
    },
    "tags": []
   },
   "outputs": [
    {
     "data": {
      "text/plain": [
       "GaussianNB()"
      ]
     },
     "execution_count": 34,
     "metadata": {},
     "output_type": "execute_result"
    }
   ],
   "source": [
    "nb_model = naive_bayes.GaussianNB()\n",
    "nb_model.fit(train_X_tfidf_dense, train_y)"
   ]
  },
  {
   "cell_type": "code",
   "execution_count": 35,
   "id": "subsequent-canvas",
   "metadata": {
    "execution": {
     "iopub.execute_input": "2021-07-06T08:08:42.029188Z",
     "iopub.status.busy": "2021-07-06T08:08:42.028490Z",
     "iopub.status.idle": "2021-07-06T08:08:43.402780Z",
     "shell.execute_reply": "2021-07-06T08:08:43.402206Z",
     "shell.execute_reply.started": "2021-07-06T07:05:10.116577Z"
    },
    "papermill": {
     "duration": 1.570342,
     "end_time": "2021-07-06T08:08:43.402932",
     "exception": false,
     "start_time": "2021-07-06T08:08:41.832590",
     "status": "completed"
    },
    "tags": []
   },
   "outputs": [],
   "source": [
    "preds_nb = nb_model.predict(test_X_tfidf_dense)"
   ]
  },
  {
   "cell_type": "code",
   "execution_count": 36,
   "id": "detected-congo",
   "metadata": {
    "execution": {
     "iopub.execute_input": "2021-07-06T08:08:43.790702Z",
     "iopub.status.busy": "2021-07-06T08:08:43.789727Z",
     "iopub.status.idle": "2021-07-06T08:08:43.794484Z",
     "shell.execute_reply": "2021-07-06T08:08:43.793808Z",
     "shell.execute_reply.started": "2021-07-06T07:05:11.916197Z"
    },
    "papermill": {
     "duration": 0.19877,
     "end_time": "2021-07-06T08:08:43.794653",
     "exception": false,
     "start_time": "2021-07-06T08:08:43.595883",
     "status": "completed"
    },
    "tags": []
   },
   "outputs": [
    {
     "data": {
      "text/plain": [
       "(14875,)"
      ]
     },
     "execution_count": 36,
     "metadata": {},
     "output_type": "execute_result"
    }
   ],
   "source": [
    "preds_nb.shape"
   ]
  },
  {
   "cell_type": "code",
   "execution_count": 37,
   "id": "consolidated-singles",
   "metadata": {
    "execution": {
     "iopub.execute_input": "2021-07-06T08:08:44.185360Z",
     "iopub.status.busy": "2021-07-06T08:08:44.184705Z",
     "iopub.status.idle": "2021-07-06T08:08:44.191244Z",
     "shell.execute_reply": "2021-07-06T08:08:44.190721Z",
     "shell.execute_reply.started": "2021-07-06T07:05:13.963753Z"
    },
    "papermill": {
     "duration": 0.204844,
     "end_time": "2021-07-06T08:08:44.191380",
     "exception": false,
     "start_time": "2021-07-06T08:08:43.986536",
     "status": "completed"
    },
    "tags": []
   },
   "outputs": [
    {
     "data": {
      "text/plain": [
       "0.7878991596638656"
      ]
     },
     "execution_count": 37,
     "metadata": {},
     "output_type": "execute_result"
    }
   ],
   "source": [
    "accuracy_score(preds_nb, test_y)"
   ]
  },
  {
   "cell_type": "code",
   "execution_count": 38,
   "id": "clear-algorithm",
   "metadata": {
    "execution": {
     "iopub.execute_input": "2021-07-06T08:08:44.581291Z",
     "iopub.status.busy": "2021-07-06T08:08:44.580617Z",
     "iopub.status.idle": "2021-07-06T08:08:44.606811Z",
     "shell.execute_reply": "2021-07-06T08:08:44.606300Z",
     "shell.execute_reply.started": "2021-07-06T07:05:15.802818Z"
    },
    "papermill": {
     "duration": 0.223714,
     "end_time": "2021-07-06T08:08:44.606981",
     "exception": false,
     "start_time": "2021-07-06T08:08:44.383267",
     "status": "completed"
    },
    "tags": []
   },
   "outputs": [
    {
     "data": {
      "text/plain": [
       "array([[5938, 1523],\n",
       "       [1632, 5782]])"
      ]
     },
     "execution_count": 38,
     "metadata": {},
     "output_type": "execute_result"
    }
   ],
   "source": [
    "confusion_matrix(test_y, preds_nb)"
   ]
  },
  {
   "cell_type": "code",
   "execution_count": 39,
   "id": "economic-eligibility",
   "metadata": {
    "execution": {
     "iopub.execute_input": "2021-07-06T08:08:45.003501Z",
     "iopub.status.busy": "2021-07-06T08:08:45.002735Z",
     "iopub.status.idle": "2021-07-06T08:08:45.032127Z",
     "shell.execute_reply": "2021-07-06T08:08:45.031505Z",
     "shell.execute_reply.started": "2021-07-06T07:05:18.665107Z"
    },
    "papermill": {
     "duration": 0.228121,
     "end_time": "2021-07-06T08:08:45.032292",
     "exception": false,
     "start_time": "2021-07-06T08:08:44.804171",
     "status": "completed"
    },
    "tags": []
   },
   "outputs": [
    {
     "name": "stdout",
     "output_type": "stream",
     "text": [
      "              precision    recall  f1-score   support\n",
      "\n",
      "           0       0.78      0.80      0.79      7461\n",
      "           1       0.79      0.78      0.79      7414\n",
      "\n",
      "    accuracy                           0.79     14875\n",
      "   macro avg       0.79      0.79      0.79     14875\n",
      "weighted avg       0.79      0.79      0.79     14875\n",
      "\n"
     ]
    }
   ],
   "source": [
    "print(classification_report(test_y, preds_nb))"
   ]
  },
  {
   "cell_type": "markdown",
   "id": "pending-concrete",
   "metadata": {
    "papermill": {
     "duration": 0.193123,
     "end_time": "2021-07-06T08:08:45.419429",
     "exception": false,
     "start_time": "2021-07-06T08:08:45.226306",
     "status": "completed"
    },
    "tags": []
   },
   "source": [
    "### Support Vector Machine Classifier\n",
    "\n",
    "Training can take some time, grab a coffee in the meanwhile :)"
   ]
  },
  {
   "cell_type": "code",
   "execution_count": 40,
   "id": "rising-chorus",
   "metadata": {
    "execution": {
     "iopub.execute_input": "2021-07-06T08:08:45.815730Z",
     "iopub.status.busy": "2021-07-06T08:08:45.815015Z",
     "iopub.status.idle": "2021-07-06T08:22:42.540568Z",
     "shell.execute_reply": "2021-07-06T08:22:42.541226Z",
     "shell.execute_reply.started": "2021-07-06T06:37:29.318835Z"
    },
    "papermill": {
     "duration": 836.925418,
     "end_time": "2021-07-06T08:22:42.542158",
     "exception": false,
     "start_time": "2021-07-06T08:08:45.616740",
     "status": "completed"
    },
    "tags": []
   },
   "outputs": [
    {
     "data": {
      "text/plain": [
       "SVC(gamma='auto', kernel='linear')"
      ]
     },
     "execution_count": 40,
     "metadata": {},
     "output_type": "execute_result"
    }
   ],
   "source": [
    "svm = svm.SVC(C = 1.0, kernel = \"linear\", degree = 3, gamma = \"auto\")\n",
    "svm.fit(train_X_tfidf, train_y)"
   ]
  },
  {
   "cell_type": "code",
   "execution_count": 41,
   "id": "imperial-being",
   "metadata": {
    "execution": {
     "iopub.execute_input": "2021-07-06T08:22:42.939245Z",
     "iopub.status.busy": "2021-07-06T08:22:42.938515Z",
     "iopub.status.idle": "2021-07-06T08:25:28.145160Z",
     "shell.execute_reply": "2021-07-06T08:25:28.145843Z",
     "shell.execute_reply.started": "2021-07-06T06:50:42.520409Z"
    },
    "papermill": {
     "duration": 165.409118,
     "end_time": "2021-07-06T08:25:28.146065",
     "exception": false,
     "start_time": "2021-07-06T08:22:42.736947",
     "status": "completed"
    },
    "tags": []
   },
   "outputs": [
    {
     "name": "stdout",
     "output_type": "stream",
     "text": [
      "(14875,)\n"
     ]
    }
   ],
   "source": [
    "preds_svm = svm.predict(test_X_tfidf)\n",
    "print(preds_svm.shape)"
   ]
  },
  {
   "cell_type": "code",
   "execution_count": 42,
   "id": "changed-commitment",
   "metadata": {
    "execution": {
     "iopub.execute_input": "2021-07-06T08:25:28.543411Z",
     "iopub.status.busy": "2021-07-06T08:25:28.542495Z",
     "iopub.status.idle": "2021-07-06T08:25:28.550538Z",
     "shell.execute_reply": "2021-07-06T08:25:28.551071Z",
     "shell.execute_reply.started": "2021-07-06T06:59:10.551296Z"
    },
    "papermill": {
     "duration": 0.211649,
     "end_time": "2021-07-06T08:25:28.551291",
     "exception": false,
     "start_time": "2021-07-06T08:25:28.339642",
     "status": "completed"
    },
    "tags": []
   },
   "outputs": [
    {
     "data": {
      "text/plain": [
       "0.8836302521008403"
      ]
     },
     "execution_count": 42,
     "metadata": {},
     "output_type": "execute_result"
    }
   ],
   "source": [
    "accuracy_score(preds_svm, test_y)"
   ]
  },
  {
   "cell_type": "code",
   "execution_count": 43,
   "id": "everyday-pixel",
   "metadata": {
    "execution": {
     "iopub.execute_input": "2021-07-06T08:25:28.948252Z",
     "iopub.status.busy": "2021-07-06T08:25:28.947592Z",
     "iopub.status.idle": "2021-07-06T08:25:28.978147Z",
     "shell.execute_reply": "2021-07-06T08:25:28.978689Z",
     "shell.execute_reply.started": "2021-07-06T06:59:22.550612Z"
    },
    "papermill": {
     "duration": 0.23189,
     "end_time": "2021-07-06T08:25:28.978881",
     "exception": false,
     "start_time": "2021-07-06T08:25:28.746991",
     "status": "completed"
    },
    "tags": []
   },
   "outputs": [
    {
     "name": "stdout",
     "output_type": "stream",
     "text": [
      "              precision    recall  f1-score   support\n",
      "\n",
      "           0       0.90      0.87      0.88      7461\n",
      "           1       0.87      0.90      0.89      7414\n",
      "\n",
      "    accuracy                           0.88     14875\n",
      "   macro avg       0.88      0.88      0.88     14875\n",
      "weighted avg       0.88      0.88      0.88     14875\n",
      "\n"
     ]
    }
   ],
   "source": [
    "print(classification_report(test_y, preds_svm))"
   ]
  },
  {
   "cell_type": "markdown",
   "id": "loved-cyprus",
   "metadata": {
    "papermill": {
     "duration": 0.198704,
     "end_time": "2021-07-06T08:25:29.377716",
     "exception": false,
     "start_time": "2021-07-06T08:25:29.179012",
     "status": "completed"
    },
    "tags": []
   },
   "source": [
    "### Logistic Regression"
   ]
  },
  {
   "cell_type": "code",
   "execution_count": 44,
   "id": "progressive-bradford",
   "metadata": {
    "execution": {
     "iopub.execute_input": "2021-07-06T08:25:29.777039Z",
     "iopub.status.busy": "2021-07-06T08:25:29.776383Z",
     "iopub.status.idle": "2021-07-06T08:25:31.138279Z",
     "shell.execute_reply": "2021-07-06T08:25:31.138740Z",
     "shell.execute_reply.started": "2021-07-06T07:21:17.203525Z"
    },
    "papermill": {
     "duration": 1.56365,
     "end_time": "2021-07-06T08:25:31.138946",
     "exception": false,
     "start_time": "2021-07-06T08:25:29.575296",
     "status": "completed"
    },
    "tags": []
   },
   "outputs": [
    {
     "data": {
      "text/plain": [
       "LogisticRegression()"
      ]
     },
     "execution_count": 44,
     "metadata": {},
     "output_type": "execute_result"
    }
   ],
   "source": [
    "log_reg = linear_model.LogisticRegression(solver = \"lbfgs\")\n",
    "log_reg.fit(train_X_tfidf, train_y)"
   ]
  },
  {
   "cell_type": "code",
   "execution_count": 45,
   "id": "australian-timber",
   "metadata": {
    "execution": {
     "iopub.execute_input": "2021-07-06T08:25:31.533518Z",
     "iopub.status.busy": "2021-07-06T08:25:31.532799Z",
     "iopub.status.idle": "2021-07-06T08:25:31.541474Z",
     "shell.execute_reply": "2021-07-06T08:25:31.541903Z",
     "shell.execute_reply.started": "2021-07-06T07:21:39.822046Z"
    },
    "papermill": {
     "duration": 0.208442,
     "end_time": "2021-07-06T08:25:31.542125",
     "exception": false,
     "start_time": "2021-07-06T08:25:31.333683",
     "status": "completed"
    },
    "tags": []
   },
   "outputs": [
    {
     "data": {
      "text/plain": [
       "(14875,)"
      ]
     },
     "execution_count": 45,
     "metadata": {},
     "output_type": "execute_result"
    }
   ],
   "source": [
    "preds_log_reg = log_reg.predict(test_X_tfidf)\n",
    "preds_log_reg.shape"
   ]
  },
  {
   "cell_type": "code",
   "execution_count": 46,
   "id": "suburban-familiar",
   "metadata": {
    "execution": {
     "iopub.execute_input": "2021-07-06T08:25:31.962381Z",
     "iopub.status.busy": "2021-07-06T08:25:31.961689Z",
     "iopub.status.idle": "2021-07-06T08:25:31.967414Z",
     "shell.execute_reply": "2021-07-06T08:25:31.967885Z",
     "shell.execute_reply.started": "2021-07-06T07:21:53.266915Z"
    },
    "papermill": {
     "duration": 0.21143,
     "end_time": "2021-07-06T08:25:31.968084",
     "exception": false,
     "start_time": "2021-07-06T08:25:31.756654",
     "status": "completed"
    },
    "tags": []
   },
   "outputs": [
    {
     "data": {
      "text/plain": [
       "0.8863193277310925"
      ]
     },
     "execution_count": 46,
     "metadata": {},
     "output_type": "execute_result"
    }
   ],
   "source": [
    "accuracy_score(preds_log_reg, test_y)"
   ]
  },
  {
   "cell_type": "code",
   "execution_count": 47,
   "id": "surface-continuity",
   "metadata": {
    "execution": {
     "iopub.execute_input": "2021-07-06T08:25:32.365830Z",
     "iopub.status.busy": "2021-07-06T08:25:32.365123Z",
     "iopub.status.idle": "2021-07-06T08:25:32.394703Z",
     "shell.execute_reply": "2021-07-06T08:25:32.394083Z",
     "shell.execute_reply.started": "2021-07-06T07:22:06.002395Z"
    },
    "papermill": {
     "duration": 0.229368,
     "end_time": "2021-07-06T08:25:32.394873",
     "exception": false,
     "start_time": "2021-07-06T08:25:32.165505",
     "status": "completed"
    },
    "tags": []
   },
   "outputs": [
    {
     "name": "stdout",
     "output_type": "stream",
     "text": [
      "              precision    recall  f1-score   support\n",
      "\n",
      "           0       0.90      0.87      0.88      7461\n",
      "           1       0.87      0.90      0.89      7414\n",
      "\n",
      "    accuracy                           0.89     14875\n",
      "   macro avg       0.89      0.89      0.89     14875\n",
      "weighted avg       0.89      0.89      0.89     14875\n",
      "\n"
     ]
    }
   ],
   "source": [
    "print(classification_report(test_y, preds_log_reg))"
   ]
  },
  {
   "cell_type": "code",
   "execution_count": null,
   "id": "prospective-gateway",
   "metadata": {
    "papermill": {
     "duration": 0.196568,
     "end_time": "2021-07-06T08:25:32.789123",
     "exception": false,
     "start_time": "2021-07-06T08:25:32.592555",
     "status": "completed"
    },
    "tags": []
   },
   "outputs": [],
   "source": []
  }
 ],
 "metadata": {
  "kernelspec": {
   "display_name": "Python 3",
   "language": "python",
   "name": "python3"
  },
  "language_info": {
   "codemirror_mode": {
    "name": "ipython",
    "version": 3
   },
   "file_extension": ".py",
   "mimetype": "text/x-python",
   "name": "python",
   "nbconvert_exporter": "python",
   "pygments_lexer": "ipython3",
   "version": "3.8.8"
  },
  "papermill": {
   "default_parameters": {},
   "duration": 3698.043037,
   "end_time": "2021-07-06T08:25:35.602472",
   "environment_variables": {},
   "exception": null,
   "input_path": "__notebook__.ipynb",
   "output_path": "__notebook__.ipynb",
   "parameters": {},
   "start_time": "2021-07-06T07:23:57.559435",
   "version": "2.3.3"
  }
 },
 "nbformat": 4,
 "nbformat_minor": 5
}
