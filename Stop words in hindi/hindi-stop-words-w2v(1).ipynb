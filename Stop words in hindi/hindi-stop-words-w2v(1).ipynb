{
 "cells": [
  {
   "cell_type": "code",
   "execution_count": 56,
   "metadata": {},
   "outputs": [],
   "source": [
    "import pandas as pd \n",
    "import warnings\n",
    "import numpy as np\n",
    "import matplotlib.pyplot as plt\n",
    "%matplotlib inline\n",
    "\n",
    "import gensim\n",
    "from IPython.display import display,HTML\n",
    "from gensim.models import Word2Vec\n",
    "import tensorflow.compat.v1 as tf\n",
    "\n",
    "warnings.filterwarnings('ignore')"
   ]
  },
  {
   "cell_type": "code",
   "execution_count": 2,
   "metadata": {},
   "outputs": [],
   "source": [
    "''' reading data '''\n",
    "df = pd.read_csv('hindi.txt')"
   ]
  },
  {
   "cell_type": "code",
   "execution_count": 3,
   "metadata": {},
   "outputs": [
    {
     "data": {
      "text/html": [
       "<div>\n",
       "<style scoped>\n",
       "    .dataframe tbody tr th:only-of-type {\n",
       "        vertical-align: middle;\n",
       "    }\n",
       "\n",
       "    .dataframe tbody tr th {\n",
       "        vertical-align: top;\n",
       "    }\n",
       "\n",
       "    .dataframe thead th {\n",
       "        text-align: right;\n",
       "    }\n",
       "</style>\n",
       "<table border=\"1\" class=\"dataframe\">\n",
       "  <thead>\n",
       "    <tr style=\"text-align: right;\">\n",
       "      <th></th>\n",
       "      <th>अत</th>\n",
       "    </tr>\n",
       "  </thead>\n",
       "  <tbody>\n",
       "    <tr>\n",
       "      <th>0</th>\n",
       "      <td>अपना</td>\n",
       "    </tr>\n",
       "    <tr>\n",
       "      <th>1</th>\n",
       "      <td>अपनी</td>\n",
       "    </tr>\n",
       "    <tr>\n",
       "      <th>2</th>\n",
       "      <td>अपने</td>\n",
       "    </tr>\n",
       "    <tr>\n",
       "      <th>3</th>\n",
       "      <td>अभी</td>\n",
       "    </tr>\n",
       "    <tr>\n",
       "      <th>4</th>\n",
       "      <td>अंदर</td>\n",
       "    </tr>\n",
       "  </tbody>\n",
       "</table>\n",
       "</div>"
      ],
      "text/plain": [
       "     अत\n",
       "0  अपना\n",
       "1  अपनी\n",
       "2  अपने\n",
       "3   अभी\n",
       "4  अंदर"
      ]
     },
     "execution_count": 3,
     "metadata": {},
     "output_type": "execute_result"
    }
   ],
   "source": [
    "''' displaying data '''\n",
    "df.head()"
   ]
  },
  {
   "cell_type": "code",
   "execution_count": 4,
   "metadata": {},
   "outputs": [
    {
     "data": {
      "text/plain": [
       "अत    0\n",
       "dtype: int64"
      ]
     },
     "execution_count": 4,
     "metadata": {},
     "output_type": "execute_result"
    }
   ],
   "source": [
    "''' checking null values '''\n",
    "df.isnull().sum()"
   ]
  },
  {
   "cell_type": "code",
   "execution_count": 5,
   "metadata": {},
   "outputs": [
    {
     "data": {
      "text/plain": [
       "Index(['अत'], dtype='object')"
      ]
     },
     "execution_count": 5,
     "metadata": {},
     "output_type": "execute_result"
    }
   ],
   "source": [
    "''' column names '''\n",
    "df.columns"
   ]
  },
  {
   "cell_type": "code",
   "execution_count": 6,
   "metadata": {},
   "outputs": [],
   "source": [
    "def get_sw_lst(stop_file_path):\n",
    "    \n",
    "    \"\"\" opening file \"\"\"\n",
    "    with open(stop_file_path, 'r', encoding=\"utf-8\") as f:\n",
    "        ''' reading lines '''\n",
    "        stopwords = f.readlines()\n",
    "        \n",
    "        stop_set = set(m.strip() for m in stopwords)\n",
    "        \n",
    "        return list(frozenset(stop_set))"
   ]
  },
  {
   "cell_type": "code",
   "execution_count": 7,
   "metadata": {},
   "outputs": [],
   "source": [
    "file_path = 'hindi.txt'\n",
    "\n",
    "''' getting stopwords'''\n",
    "s_words = get_sw_lst(file_path)"
   ]
  },
  {
   "cell_type": "code",
   "execution_count": 9,
   "metadata": {},
   "outputs": [
    {
     "data": {
      "text/plain": [
       "['यही', 'लेकिन', 'उन्हों', 'यह', 'दुसरा']"
      ]
     },
     "execution_count": 9,
     "metadata": {},
     "output_type": "execute_result"
    }
   ],
   "source": [
    "''' displaying top 5 stop words '''\n",
    "s_words[:5]"
   ]
  },
  {
   "cell_type": "code",
   "execution_count": 10,
   "metadata": {},
   "outputs": [
    {
     "name": "stdout",
     "output_type": "stream",
     "text": [
      "Total Number of stopwords:  169\n"
     ]
    }
   ],
   "source": [
    "print(\"Total Number of stopwords: \", len(s_words))"
   ]
  },
  {
   "cell_type": "code",
   "execution_count": 12,
   "metadata": {},
   "outputs": [],
   "source": [
    "''' creating list of corpus '''\n",
    "corpus = [' प्रत्येक व्यक्ति को शिक्षा का अधिकार है', 'शिक्षा कम से कम प्रारम्भिक और बुनियादी अवस्थाओं में निःशुल्क होगी', \n",
    "          ' प्रारम्भिक शिक्षा अनिवार्य होगी । टेक्निकल']"
   ]
  },
  {
   "cell_type": "code",
   "execution_count": 13,
   "metadata": {},
   "outputs": [],
   "source": [
    "''' creating list of stopwords '''\n",
    "stop_words = ['एक', 'दूसरे', 'नहीं', 'पूरा', 'व', 'वे', 'लिये', 'कोई', 'वहाँ', 'उसी']"
   ]
  },
  {
   "cell_type": "code",
   "execution_count": 14,
   "metadata": {},
   "outputs": [],
   "source": [
    "''' removing stopwords '''\n",
    "def remove_s_words(c):\n",
    "    res = []\n",
    "    for text in c:\n",
    "        tmp = text.split(' ')\n",
    "        for stop_word in stop_words:\n",
    "            if stop_word in tmp:\n",
    "                tmp.remove(stop_word)\n",
    "        res.append(\" \".join(tmp))\n",
    "        \n",
    "    return res"
   ]
  },
  {
   "cell_type": "code",
   "execution_count": 15,
   "metadata": {},
   "outputs": [],
   "source": [
    "''' passing corpus to a funciton '''\n",
    "corpus = remove_s_words(corpus)"
   ]
  },
  {
   "cell_type": "code",
   "execution_count": 16,
   "metadata": {},
   "outputs": [
    {
     "data": {
      "text/plain": [
       "[' प्रत्येक व्यक्ति को शिक्षा का अधिकार है',\n",
       " 'शिक्षा कम से कम प्रारम्भिक और बुनियादी अवस्थाओं में निःशुल्क होगी',\n",
       " ' प्रारम्भिक शिक्षा अनिवार्य होगी । टेक्निकल']"
      ]
     },
     "execution_count": 16,
     "metadata": {},
     "output_type": "execute_result"
    }
   ],
   "source": [
    "corpus"
   ]
  },
  {
   "cell_type": "code",
   "execution_count": 21,
   "metadata": {},
   "outputs": [],
   "source": [
    "''' creating a set of words '''\n",
    "\n",
    "total_words = []\n",
    "for text in corpus:\n",
    "    ''' splitting '''\n",
    "    for t in text.split():\n",
    "        total_words.append(t)\n",
    "    \n",
    "total_words = set(total_words)"
   ]
  },
  {
   "cell_type": "code",
   "execution_count": 23,
   "metadata": {},
   "outputs": [
    {
     "data": {
      "text/plain": [
       "{'अधिकार',\n",
       " 'अनिवार्य',\n",
       " 'अवस्थाओं',\n",
       " 'और',\n",
       " 'कम',\n",
       " 'का',\n",
       " 'को',\n",
       " 'टेक्निकल',\n",
       " 'निःशुल्क',\n",
       " 'प्रत्येक',\n",
       " 'प्रारम्भिक',\n",
       " 'बुनियादी',\n",
       " 'में',\n",
       " 'व्यक्ति',\n",
       " 'शिक्षा',\n",
       " 'से',\n",
       " 'है',\n",
       " 'होगी',\n",
       " '।'}"
      ]
     },
     "execution_count": 23,
     "metadata": {},
     "output_type": "execute_result"
    }
   ],
   "source": [
    "total_words"
   ]
  },
  {
   "cell_type": "code",
   "execution_count": 27,
   "metadata": {},
   "outputs": [],
   "source": [
    "word_dict = {}\n",
    "\n",
    "for idx, word in enumerate(total_words):\n",
    "    word_dict[word] = idx\n",
    "    \n",
    "sent = []\n",
    "\n",
    "for s in corpus:\n",
    "    sent.append(s.split())\n",
    "    \n",
    "size = 2\n",
    "\n",
    "data = []\n",
    "for s in sent:\n",
    "    for idx, w in enumerate(s):\n",
    "        for neighbor in s[max(idx - size, 0): min(idx + size, len(s) + 1)]:\n",
    "            if neighbor != w:\n",
    "                data.append([w, neighbor])"
   ]
  },
  {
   "cell_type": "code",
   "execution_count": 28,
   "metadata": {},
   "outputs": [
    {
     "name": "stdout",
     "output_type": "stream",
     "text": [
      " प्रत्येक व्यक्ति को शिक्षा का अधिकार है\n",
      "शिक्षा कम से कम प्रारम्भिक और बुनियादी अवस्थाओं में निःशुल्क होगी\n",
      " प्रारम्भिक शिक्षा अनिवार्य होगी । टेक्निकल\n"
     ]
    }
   ],
   "source": [
    "for t in corpus:\n",
    "    print(t)\n",
    "\n",
    "''' creating a dataframe'''\n",
    "df = pd.DataFrame(data, columns = ['input', 'label'])"
   ]
  },
  {
   "cell_type": "code",
   "execution_count": 29,
   "metadata": {},
   "outputs": [
    {
     "data": {
      "text/html": [
       "<div>\n",
       "<style scoped>\n",
       "    .dataframe tbody tr th:only-of-type {\n",
       "        vertical-align: middle;\n",
       "    }\n",
       "\n",
       "    .dataframe tbody tr th {\n",
       "        vertical-align: top;\n",
       "    }\n",
       "\n",
       "    .dataframe thead th {\n",
       "        text-align: right;\n",
       "    }\n",
       "</style>\n",
       "<table border=\"1\" class=\"dataframe\">\n",
       "  <thead>\n",
       "    <tr style=\"text-align: right;\">\n",
       "      <th></th>\n",
       "      <th>input</th>\n",
       "      <th>label</th>\n",
       "    </tr>\n",
       "  </thead>\n",
       "  <tbody>\n",
       "    <tr>\n",
       "      <th>0</th>\n",
       "      <td>प्रत्येक</td>\n",
       "      <td>व्यक्ति</td>\n",
       "    </tr>\n",
       "    <tr>\n",
       "      <th>1</th>\n",
       "      <td>व्यक्ति</td>\n",
       "      <td>प्रत्येक</td>\n",
       "    </tr>\n",
       "    <tr>\n",
       "      <th>2</th>\n",
       "      <td>व्यक्ति</td>\n",
       "      <td>को</td>\n",
       "    </tr>\n",
       "    <tr>\n",
       "      <th>3</th>\n",
       "      <td>को</td>\n",
       "      <td>प्रत्येक</td>\n",
       "    </tr>\n",
       "    <tr>\n",
       "      <th>4</th>\n",
       "      <td>को</td>\n",
       "      <td>व्यक्ति</td>\n",
       "    </tr>\n",
       "  </tbody>\n",
       "</table>\n",
       "</div>"
      ],
      "text/plain": [
       "      input     label\n",
       "0  प्रत्येक   व्यक्ति\n",
       "1   व्यक्ति  प्रत्येक\n",
       "2   व्यक्ति        को\n",
       "3        को  प्रत्येक\n",
       "4        को   व्यक्ति"
      ]
     },
     "execution_count": 29,
     "metadata": {},
     "output_type": "execute_result"
    }
   ],
   "source": [
    "''' displaying top 5 rows '''\n",
    "df.head()"
   ]
  },
  {
   "cell_type": "code",
   "execution_count": 30,
   "metadata": {},
   "outputs": [
    {
     "data": {
      "text/plain": [
       "(59, 2)"
      ]
     },
     "execution_count": 30,
     "metadata": {},
     "output_type": "execute_result"
    }
   ],
   "source": [
    "''' shape of data '''\n",
    "df.shape"
   ]
  },
  {
   "cell_type": "code",
   "execution_count": 31,
   "metadata": {},
   "outputs": [
    {
     "data": {
      "text/plain": [
       "{'प्रारम्भिक': 0,\n",
       " 'शिक्षा': 1,\n",
       " 'अधिकार': 2,\n",
       " 'कम': 3,\n",
       " 'को': 4,\n",
       " 'में': 5,\n",
       " 'निःशुल्क': 6,\n",
       " 'और': 7,\n",
       " 'का': 8,\n",
       " 'बुनियादी': 9,\n",
       " 'अवस्थाओं': 10,\n",
       " 'है': 11,\n",
       " 'व्यक्ति': 12,\n",
       " 'प्रत्येक': 13,\n",
       " 'अनिवार्य': 14,\n",
       " 'टेक्निकल': 15,\n",
       " '।': 16,\n",
       " 'होगी': 17,\n",
       " 'से': 18}"
      ]
     },
     "execution_count": 31,
     "metadata": {},
     "output_type": "execute_result"
    }
   ],
   "source": [
    "word_dict"
   ]
  },
  {
   "cell_type": "code",
   "execution_count": 34,
   "metadata": {},
   "outputs": [],
   "source": [
    "tf.disable_v2_behavior()\n",
    "x = tf.placeholder(shape=[None, 2], dtype=tf.float32)"
   ]
  },
  {
   "cell_type": "code",
   "execution_count": 38,
   "metadata": {},
   "outputs": [],
   "source": [
    "\"\"\"Define Tensorflow Graph\"\"\"\n",
    "\n",
    "one_hot_dim = len(total_words)\n",
    "\n",
    "'''function to convert numbers to one hot vectors'''\n",
    "def to_one_hot_enc(d):\n",
    "    o_h_enc = np.zeros(one_hot_dim)\n",
    "    o_h_enc[d] = 1\n",
    "    return o_h_enc\n",
    "\n",
    "''' independent and dependent variables '''\n",
    "X = [] \n",
    "Y = [] \n",
    "\n",
    "for x, y in zip(df['input'], df['label']):\n",
    "    X.append(to_one_hot_enc(word_dict[ x ]))\n",
    "    Y.append(to_one_hot_enc(word_dict[ y ]))\n",
    "\n",
    "''' converting X and Y to numpy array '''\n",
    "X_train = np.asarray(X)\n",
    "y_train = np.asarray(Y)\n",
    "\n",
    "'''making placeholders for X_train and Y_train'''\n",
    "x = tf.placeholder(tf.float32, shape=(None, one_hot_dim))\n",
    "y_label = tf.placeholder(tf.float32, shape=(None, one_hot_dim))\n",
    "\n",
    "'''word embedding will be 2 dimension for 2d visualization'''\n",
    "emb_dim = 2 \n",
    "\n",
    "''' hidden layer '''\n",
    "w1 = tf.Variable(tf.random_normal([one_hot_dim, emb_dim]))\n",
    "b1 = tf.Variable(tf.random_normal([1])) \n",
    "\n",
    "''' linear function '''\n",
    "h1_layer = tf.add(tf.matmul(x, w1), b1)\n",
    "\n",
    "'''output layer'''\n",
    "w2 = tf.Variable(tf.random_normal([emb_dim, one_hot_dim]))\n",
    "b2 = tf.Variable(tf.random_normal([1]))\n",
    "pred = tf.nn.softmax(tf.add( tf.matmul(h1_layer, w2), b2))\n",
    "\n",
    "''' Loss'''\n",
    "loss = tf.reduce_mean(-tf.reduce_sum(y_label * tf.log(pred), axis=[1]))\n",
    "\n",
    "'''training operation'''\n",
    "model= tf.train.GradientDescentOptimizer(0.05).minimize(loss)"
   ]
  },
  {
   "cell_type": "code",
   "execution_count": 41,
   "metadata": {},
   "outputs": [
    {
     "name": "stdout",
     "output_type": "stream",
     "text": [
      "iteration 0 loss is :  3.5907733\n",
      "iteration 3000 loss is :  2.1063764\n",
      "iteration 6000 loss is :  1.980015\n",
      "iteration 9000 loss is :  1.9352883\n",
      "iteration 12000 loss is :  1.9026297\n",
      "iteration 15000 loss is :  1.8770843\n",
      "iteration 18000 loss is :  1.8624789\n"
     ]
    }
   ],
   "source": [
    "''' training '''\n",
    "\n",
    "session = tf.Session()\n",
    "in__it = tf.global_variables_initializer()\n",
    "session.run(in__it) \n",
    "\n",
    "itera = 20000\n",
    "for i in range(itera):\n",
    "\n",
    "    session.run(model, feed_dict={x: X_train, y_label: y_train})\n",
    "    if i % 3000 == 0:\n",
    "        print('iteration '+str(i)+' loss is : ', session.run(loss, feed_dict={x: X_train, y_label: y_train}))"
   ]
  },
  {
   "cell_type": "code",
   "execution_count": 45,
   "metadata": {},
   "outputs": [
    {
     "name": "stdout",
     "output_type": "stream",
     "text": [
      "[[ 2.9610758  -0.87181425]\n",
      " [ 0.1368976   0.19085908]\n",
      " [ 1.6397777   1.3902086 ]\n",
      " [ 5.4786634  -1.9656316 ]\n",
      " [-0.0764209   0.7848021 ]\n",
      " [-3.833498   -0.5560626 ]\n",
      " [-1.303459   -4.629134  ]\n",
      " [ 0.0893729  -0.11625892]\n",
      " [ 2.4224048   4.633761  ]\n",
      " [ 0.02087528 -0.57150316]\n",
      " [-0.3570994  -0.6078061 ]\n",
      " [ 2.0027375   3.374063  ]\n",
      " [ 0.3531857   4.3442993 ]\n",
      " [-2.8454747   2.1530232 ]\n",
      " [ 1.8430302  -0.84325695]\n",
      " [-0.38981217 -4.0756683 ]\n",
      " [ 0.78654474 -2.2659883 ]\n",
      " [-0.10317326 -0.23761016]\n",
      " [ 4.4625163  -0.17157799]]\n"
     ]
    }
   ],
   "source": [
    "vec = session.run(w1 + b1)\n",
    "print(vec)"
   ]
  },
  {
   "cell_type": "code",
   "execution_count": 46,
   "metadata": {},
   "outputs": [],
   "source": [
    "''' creaing new dataframe '''\n",
    "df_new = pd.DataFrame(vec, columns = ['x1', 'x2'])\n",
    "df_new['word'] = total_words\n",
    "df_new = df_new[['word', 'x1', 'x2']]"
   ]
  },
  {
   "cell_type": "code",
   "execution_count": 47,
   "metadata": {},
   "outputs": [
    {
     "data": {
      "text/html": [
       "<div>\n",
       "<style scoped>\n",
       "    .dataframe tbody tr th:only-of-type {\n",
       "        vertical-align: middle;\n",
       "    }\n",
       "\n",
       "    .dataframe tbody tr th {\n",
       "        vertical-align: top;\n",
       "    }\n",
       "\n",
       "    .dataframe thead th {\n",
       "        text-align: right;\n",
       "    }\n",
       "</style>\n",
       "<table border=\"1\" class=\"dataframe\">\n",
       "  <thead>\n",
       "    <tr style=\"text-align: right;\">\n",
       "      <th></th>\n",
       "      <th>word</th>\n",
       "      <th>x1</th>\n",
       "      <th>x2</th>\n",
       "    </tr>\n",
       "  </thead>\n",
       "  <tbody>\n",
       "    <tr>\n",
       "      <th>0</th>\n",
       "      <td>प्रारम्भिक</td>\n",
       "      <td>2.961076</td>\n",
       "      <td>-0.871814</td>\n",
       "    </tr>\n",
       "    <tr>\n",
       "      <th>1</th>\n",
       "      <td>शिक्षा</td>\n",
       "      <td>0.136898</td>\n",
       "      <td>0.190859</td>\n",
       "    </tr>\n",
       "    <tr>\n",
       "      <th>2</th>\n",
       "      <td>अधिकार</td>\n",
       "      <td>1.639778</td>\n",
       "      <td>1.390209</td>\n",
       "    </tr>\n",
       "    <tr>\n",
       "      <th>3</th>\n",
       "      <td>कम</td>\n",
       "      <td>5.478663</td>\n",
       "      <td>-1.965632</td>\n",
       "    </tr>\n",
       "    <tr>\n",
       "      <th>4</th>\n",
       "      <td>को</td>\n",
       "      <td>-0.076421</td>\n",
       "      <td>0.784802</td>\n",
       "    </tr>\n",
       "  </tbody>\n",
       "</table>\n",
       "</div>"
      ],
      "text/plain": [
       "         word        x1        x2\n",
       "0  प्रारम्भिक  2.961076 -0.871814\n",
       "1      शिक्षा  0.136898  0.190859\n",
       "2      अधिकार  1.639778  1.390209\n",
       "3          कम  5.478663 -1.965632\n",
       "4          को -0.076421  0.784802"
      ]
     },
     "execution_count": 47,
     "metadata": {},
     "output_type": "execute_result"
    }
   ],
   "source": [
    "df_new.head()"
   ]
  },
  {
   "cell_type": "code",
   "execution_count": 48,
   "metadata": {},
   "outputs": [
    {
     "data": {
      "text/html": [
       "<div>\n",
       "<style scoped>\n",
       "    .dataframe tbody tr th:only-of-type {\n",
       "        vertical-align: middle;\n",
       "    }\n",
       "\n",
       "    .dataframe tbody tr th {\n",
       "        vertical-align: top;\n",
       "    }\n",
       "\n",
       "    .dataframe thead th {\n",
       "        text-align: right;\n",
       "    }\n",
       "</style>\n",
       "<table border=\"1\" class=\"dataframe\">\n",
       "  <thead>\n",
       "    <tr style=\"text-align: right;\">\n",
       "      <th></th>\n",
       "      <th>input</th>\n",
       "      <th>label</th>\n",
       "    </tr>\n",
       "  </thead>\n",
       "  <tbody>\n",
       "    <tr>\n",
       "      <th>54</th>\n",
       "      <td>।</td>\n",
       "      <td>अनिवार्य</td>\n",
       "    </tr>\n",
       "    <tr>\n",
       "      <th>55</th>\n",
       "      <td>।</td>\n",
       "      <td>होगी</td>\n",
       "    </tr>\n",
       "    <tr>\n",
       "      <th>56</th>\n",
       "      <td>।</td>\n",
       "      <td>टेक्निकल</td>\n",
       "    </tr>\n",
       "    <tr>\n",
       "      <th>57</th>\n",
       "      <td>टेक्निकल</td>\n",
       "      <td>होगी</td>\n",
       "    </tr>\n",
       "    <tr>\n",
       "      <th>58</th>\n",
       "      <td>टेक्निकल</td>\n",
       "      <td>।</td>\n",
       "    </tr>\n",
       "  </tbody>\n",
       "</table>\n",
       "</div>"
      ],
      "text/plain": [
       "       input     label\n",
       "54         ।  अनिवार्य\n",
       "55         ।      होगी\n",
       "56         ।  टेक्निकल\n",
       "57  टेक्निकल      होगी\n",
       "58  टेक्निकल         ।"
      ]
     },
     "execution_count": 48,
     "metadata": {},
     "output_type": "execute_result"
    }
   ],
   "source": [
    "df.tail()"
   ]
  },
  {
   "cell_type": "code",
   "execution_count": 54,
   "metadata": {},
   "outputs": [
    {
     "data": {
      "image/png": "[encoded data removed]",
      "text/plain": [
       "<Figure size 1440x1440 with 1 Axes>"
      ]
     },
     "metadata": {
      "needs_background": "light"
     },
     "output_type": "display_data"
    }
   ],
   "source": [
    "\"\"\"Word Vector in 2D Chart\"\"\"\n",
    "\n",
    "fig, ax = plt.subplots()\n",
    "\n",
    "for w, x1, x2 in zip(df_new['word'], df_new['x1'], df_new['x2']):\n",
    "    ax.annotate(w, (x1,x2 ))\n",
    "    \n",
    "pad = 1.0\n",
    "x_axis_min = np.amin(vectors, axis=0)[0] - pad\n",
    "y_axis_min = np.amin(vectors, axis=0)[1] - pad\n",
    "x_axis_max = np.amax(vectors, axis=0)[0] + pad\n",
    "y_axis_max = np.amax(vectors, axis=0)[1] + pad\n",
    " \n",
    "plt.xlim(x_axis_min,x_axis_max)\n",
    "plt.ylim(y_axis_min,y_axis_max)\n",
    "plt.rcParams[\"figure.figsize\"] = (20,20)\n",
    "\n",
    "plt.show();"
   ]
  },
  {
   "cell_type": "code",
   "execution_count": 58,
   "metadata": {},
   "outputs": [],
   "source": [
    "''' displaying text '''\n",
    "\n",
    "c1, c2, f1, f2, fs1, fs2='#eb3434','#eb3446','Akronim','Smokum', 30, 15\n",
    "\n",
    "def disp_html(s, fc=c1,font=f1,fontsize=fs1):\n",
    "    display(HTML(\"\"\"<style>\n",
    "    @import 'https://fonts.googleapis.com/css?family=\"\"\"\\\n",
    "    +font+\"\"\"&effect=3d-float';</style>\n",
    "    <h1 class='font-effect-3d-float' style='font-family:\"\"\"+\\\n",
    "    font+\"\"\"; color:\"\"\"+fc+\"\"\"; font-size:\"\"\"+\\\n",
    "    str(fc)+\"\"\"px;'>%s</h1>\"\"\"%s))"
   ]
  },
  {
   "cell_type": "code",
   "execution_count": 60,
   "metadata": {},
   "outputs": [
    {
     "data": {
      "text/html": [
       "<style>\n",
       "    @import 'https://fonts.googleapis.com/css?family=Akronim&effect=3d-float';</style>\n",
       "    <h1 class='font-effect-3d-float' style='font-family:Akronim; color:#eb3434; font-size:#eb3434px;'> प्रत्येक व्यक्ति को किसी भी ऐसी वैज्ञानिक, \n",
       "          साहित्यिक या कलास्मक कृति मे उत्पन्न नैतिक और आर्थिक हितों की रक्षा का अधिकार है जिसका रचयिता वह स्वयं हो </h1>"
      ],
      "text/plain": [
       "<IPython.core.display.HTML object>"
      ]
     },
     "metadata": {},
     "output_type": "display_data"
    }
   ],
   "source": [
    "disp_html(''' प्रत्येक व्यक्ति को किसी भी ऐसी वैज्ञानिक, \n",
    "          साहित्यिक या कलास्मक कृति मे उत्पन्न नैतिक और आर्थिक हितों की रक्षा का अधिकार है जिसका रचयिता वह स्वयं हो ''' )"
   ]
  },
  {
   "cell_type": "code",
   "execution_count": null,
   "metadata": {},
   "outputs": [],
   "source": []
  }
 ],
 "metadata": {
  "kernelspec": {
   "display_name": "Python 3",
   "language": "python",
   "name": "python3"
  },
  "language_info": {
   "codemirror_mode": {
    "name": "ipython",
    "version": 3
   },
   "file_extension": ".py",
   "mimetype": "text/x-python",
   "name": "python",
   "nbconvert_exporter": "python",
   "pygments_lexer": "ipython3",
   "version": "3.8.5"
  }
 },
 "nbformat": 4,
 "nbformat_minor": 4
}
